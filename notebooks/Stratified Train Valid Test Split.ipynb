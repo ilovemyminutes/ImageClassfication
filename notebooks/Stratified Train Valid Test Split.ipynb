{
 "metadata": {
  "language_info": {
   "codemirror_mode": {
    "name": "ipython",
    "version": 3
   },
   "file_extension": ".py",
   "mimetype": "text/x-python",
   "name": "python",
   "nbconvert_exporter": "python",
   "pygments_lexer": "ipython3",
   "version": "3.7.7-final"
  },
  "orig_nbformat": 2,
  "kernelspec": {
   "name": "python377jvsc74a57bd098b0a9b7b4eaaa670588a142fd0a9b87eaafe866f1db4228be72b4211d12040f",
   "display_name": "Python 3.7.7 64-bit ('base': conda)"
  }
 },
 "nbformat": 4,
 "nbformat_minor": 2,
 "cells": [
  {
   "cell_type": "code",
   "execution_count": 5,
   "metadata": {},
   "outputs": [],
   "source": [
    "import os\n",
    "import sys\n",
    "from glob import glob\n",
    "from tqdm import tqdm\n",
    "import numpy as np\n",
    "import pandas as pd\n",
    "import shutil\n",
    "sys.path.insert(0, '../')\n",
    "from dataset import LabelEncoder\n",
    "from utils import save_pickle, load_json"
   ]
  },
  {
   "cell_type": "code",
   "execution_count": 55,
   "metadata": {},
   "outputs": [],
   "source": [
    "TRAIN_DIR = '../input/data/train/images/'\n",
    "MOVE_DIR = '../preprocessed_stratified/'\n",
    "VALID_RATE = 0.15\n",
    "TEST_RATE = 0.1\n",
    "SEED = 42"
   ]
  },
  {
   "source": [
    "# Stratified Split\n",
    "- 사람 단위로 분배. 즉, 마스크 상태는 고려하지 않음\n",
    "- 따라서 성별, 나이를 고려하여 데이터 분배"
   ],
   "cell_type": "markdown",
   "metadata": {}
  },
  {
   "cell_type": "code",
   "execution_count": 34,
   "metadata": {},
   "outputs": [
    {
     "output_type": "display_data",
     "data": {
      "text/plain": "       id  gender   race  age                    path\n0  000001  female  Asian   45  000001_female_Asian_45\n1  000002  female  Asian   52  000002_female_Asian_52\n2  000004    male  Asian   54    000004_male_Asian_54\n3  000005  female  Asian   58  000005_female_Asian_58\n4  000006  female  Asian   59  000006_female_Asian_59",
      "text/html": "<div>\n<style scoped>\n    .dataframe tbody tr th:only-of-type {\n        vertical-align: middle;\n    }\n\n    .dataframe tbody tr th {\n        vertical-align: top;\n    }\n\n    .dataframe thead th {\n        text-align: right;\n    }\n</style>\n<table border=\"1\" class=\"dataframe\">\n  <thead>\n    <tr style=\"text-align: right;\">\n      <th></th>\n      <th>id</th>\n      <th>gender</th>\n      <th>race</th>\n      <th>age</th>\n      <th>path</th>\n    </tr>\n  </thead>\n  <tbody>\n    <tr>\n      <th>0</th>\n      <td>000001</td>\n      <td>female</td>\n      <td>Asian</td>\n      <td>45</td>\n      <td>000001_female_Asian_45</td>\n    </tr>\n    <tr>\n      <th>1</th>\n      <td>000002</td>\n      <td>female</td>\n      <td>Asian</td>\n      <td>52</td>\n      <td>000002_female_Asian_52</td>\n    </tr>\n    <tr>\n      <th>2</th>\n      <td>000004</td>\n      <td>male</td>\n      <td>Asian</td>\n      <td>54</td>\n      <td>000004_male_Asian_54</td>\n    </tr>\n    <tr>\n      <th>3</th>\n      <td>000005</td>\n      <td>female</td>\n      <td>Asian</td>\n      <td>58</td>\n      <td>000005_female_Asian_58</td>\n    </tr>\n    <tr>\n      <th>4</th>\n      <td>000006</td>\n      <td>female</td>\n      <td>Asian</td>\n      <td>59</td>\n      <td>000006_female_Asian_59</td>\n    </tr>\n  </tbody>\n</table>\n</div>"
     },
     "metadata": {}
    },
    {
     "output_type": "execute_result",
     "data": {
      "text/plain": [
       "2700"
      ]
     },
     "metadata": {},
     "execution_count": 34
    }
   ],
   "source": [
    "train_dirs = glob(os.path.join(TRAIN_DIR, '*'))\n",
    "train_info = pd.read_csv('../input/data/train/train.csv')\n",
    "display(train_info.head())\n",
    "len(train_dirs)"
   ]
  },
  {
   "cell_type": "code",
   "execution_count": 37,
   "metadata": {},
   "outputs": [],
   "source": [
    "def age2ageg(age):\n",
    "    if age < 30:\n",
    "        return 0 # young\n",
    "    elif age >= 30 and age < 60:\n",
    "        return 1 # middle\n",
    "    else:\n",
    "        return 2 # old"
   ]
  },
  {
   "cell_type": "code",
   "execution_count": 38,
   "metadata": {},
   "outputs": [],
   "source": [
    "train_info['ageg'] = train_info['age'].apply(lambda x: age2ageg(x))"
   ]
  },
  {
   "cell_type": "code",
   "execution_count": 40,
   "metadata": {},
   "outputs": [
    {
     "output_type": "execute_result",
     "data": {
      "text/plain": [
       "              density\n",
       "gender ageg          \n",
       "female 0     0.271111\n",
       "       1     0.302593\n",
       "       2     0.040370\n",
       "male   0     0.203333\n",
       "       1     0.151852\n",
       "       2     0.030741"
      ],
      "text/html": "<div>\n<style scoped>\n    .dataframe tbody tr th:only-of-type {\n        vertical-align: middle;\n    }\n\n    .dataframe tbody tr th {\n        vertical-align: top;\n    }\n\n    .dataframe thead th {\n        text-align: right;\n    }\n</style>\n<table border=\"1\" class=\"dataframe\">\n  <thead>\n    <tr style=\"text-align: right;\">\n      <th></th>\n      <th></th>\n      <th>density</th>\n    </tr>\n    <tr>\n      <th>gender</th>\n      <th>ageg</th>\n      <th></th>\n    </tr>\n  </thead>\n  <tbody>\n    <tr>\n      <th rowspan=\"3\" valign=\"top\">female</th>\n      <th>0</th>\n      <td>0.271111</td>\n    </tr>\n    <tr>\n      <th>1</th>\n      <td>0.302593</td>\n    </tr>\n    <tr>\n      <th>2</th>\n      <td>0.040370</td>\n    </tr>\n    <tr>\n      <th rowspan=\"3\" valign=\"top\">male</th>\n      <th>0</th>\n      <td>0.203333</td>\n    </tr>\n    <tr>\n      <th>1</th>\n      <td>0.151852</td>\n    </tr>\n    <tr>\n      <th>2</th>\n      <td>0.030741</td>\n    </tr>\n  </tbody>\n</table>\n</div>"
     },
     "metadata": {},
     "execution_count": 40
    }
   ],
   "source": [
    "(train_info.groupby(['gender', 'ageg']).count() / train_info.shape[0])[['id']].rename({'id':'density'}, axis=1)"
   ]
  },
  {
   "cell_type": "code",
   "execution_count": 41,
   "metadata": {},
   "outputs": [],
   "source": [
    "gender = ['female', 'male']\n",
    "ageg = [0, 1, 2]\n",
    "\n",
    "interation_dist = {\n",
    "    ('female', 0): 0.27,\n",
    "    ('female', 1): 0.30,\n",
    "    ('female', 2): 0.04,\n",
    "    ('male', 0): 0.20,\n",
    "    ('male', 1): 0.15,\n",
    "    ('male', 2): 0.04,\n",
    "    }"
   ]
  },
  {
   "cell_type": "code",
   "execution_count": null,
   "metadata": {},
   "outputs": [],
   "source": [
    "for v in tqdm(train_dirs):\n",
    "    img_paths = glob(os.path.join(TRAIN_DIR, v, '*'))\n",
    "    for img_path in img_paths:\n",
    "        new_name = '_'.join(img_path.split('/')[-2:])\n",
    "        new_path = os.path.join(MOVE_DIR, 'train', new_name)\n",
    "        shutil.copy(img_path, new_path)"
   ]
  },
  {
   "cell_type": "code",
   "execution_count": 75,
   "metadata": {},
   "outputs": [
    {
     "output_type": "stream",
     "name": "stderr",
     "text": [
      "100%|██████████| 109/109 [00:00<00:00, 1292.48it/s]\n",
      "100%|██████████| 73/73 [00:00<00:00, 1371.77it/s]\n",
      "  0%|          | 0/550 [00:00<?, ?it/s]Gender female Ageg 0\n",
      "100%|██████████| 550/550 [00:00<00:00, 1144.67it/s]\n",
      "100%|██████████| 122/122 [00:00<00:00, 1140.67it/s]\n",
      "100%|██████████| 81/81 [00:00<00:00, 1190.85it/s]\n",
      "  0%|          | 0/614 [00:00<?, ?it/s]Gender female Ageg 1\n",
      "100%|██████████| 614/614 [00:00<00:00, 1162.01it/s]\n",
      "100%|██████████| 16/16 [00:00<00:00, 601.40it/s]\n",
      "100%|██████████| 10/10 [00:00<00:00, 1080.14it/s]\n",
      "100%|██████████| 83/83 [00:00<00:00, 1132.28it/s]\n",
      "100%|██████████| 82/82 [00:00<00:00, 1218.87it/s]\n",
      "  0%|          | 0/54 [00:00<?, ?it/s]Gender female Ageg 2\n",
      "Gender male Ageg 0\n",
      "100%|██████████| 54/54 [00:00<00:00, 1213.89it/s]\n",
      "100%|██████████| 413/413 [00:00<00:00, 1068.93it/s]\n",
      "100%|██████████| 61/61 [00:00<00:00, 1158.24it/s]\n",
      "100%|██████████| 41/41 [00:00<00:00, 1070.26it/s]\n",
      " 39%|███▊      | 119/308 [00:00<00:00, 1185.79it/s]Gender male Ageg 1\n",
      "100%|██████████| 308/308 [00:00<00:00, 1130.37it/s]\n",
      "100%|██████████| 12/12 [00:00<00:00, 1260.75it/s]\n",
      "100%|██████████| 8/8 [00:00<00:00, 1228.79it/s]\n",
      "100%|██████████| 63/63 [00:00<00:00, 1147.22it/s]Gender male Ageg 2\n",
      "\n"
     ]
    }
   ],
   "source": [
    "for g in gender:\n",
    "    for a in ageg:\n",
    "        print('Gender', g, 'Ageg', a)\n",
    "        origin_dirs = train_info[(train_info['gender'] == g) & (train_info['ageg'] == a)]['path'].tolist()\n",
    "        VALID_SIZE = int(len(origin_dirs) * VALID_RATE)\n",
    "        TEST_SIZE = int(len(origin_dirs) * TEST_RATE)\n",
    "        valid_dirs = np.random.choice(origin_dirs, size=VALID_SIZE, replace=False).tolist()\n",
    "        origin_dirs = [i for i in origin_dirs if i not in valid_dirs]\n",
    "        test_dirs = np.random.choice(origin_dirs, size=TEST_SIZE, replace=False).tolist()\n",
    "        train_dirs = [i for i in origin_dirs if i not in test_dirs]\n",
    "\n",
    "        for v in tqdm(valid_dirs):\n",
    "            img_paths = glob(os.path.join(TRAIN_DIR, v, '*'))\n",
    "            for img_path in img_paths:\n",
    "                new_name = '_'.join(img_path.split('/')[-2:])\n",
    "                new_path = os.path.join(MOVE_DIR, 'valid', new_name)\n",
    "                shutil.copy(img_path, new_path)\n",
    "\n",
    "        for v in tqdm(test_dirs):\n",
    "            img_paths = glob(os.path.join(TRAIN_DIR, v, '*'))\n",
    "            for img_path in img_paths:\n",
    "                new_name = '_'.join(img_path.split('/')[-2:])\n",
    "                new_path = os.path.join(MOVE_DIR, 'test', new_name)\n",
    "                shutil.copy(img_path, new_path)\n",
    "\n",
    "        for v in tqdm(train_dirs):\n",
    "            img_paths = glob(os.path.join(TRAIN_DIR, v, '*'))\n",
    "            for img_path in img_paths:\n",
    "                new_name = '_'.join(img_path.split('/')[-2:])\n",
    "                new_path = os.path.join(MOVE_DIR, 'train', new_name)\n",
    "                shutil.copy(img_path, new_path)\n",
    "\n",
    "        "
   ]
  },
  {
   "source": [
    "확인"
   ],
   "cell_type": "markdown",
   "metadata": {}
  },
  {
   "cell_type": "code",
   "execution_count": 77,
   "metadata": {},
   "outputs": [
    {
     "output_type": "stream",
     "name": "stdout",
     "text": [
      "14217\n2814\n1869\n"
     ]
    }
   ],
   "source": [
    "print(len(glob(os.path.join(MOVE_DIR, 'train/*'))))\n",
    "print(len(glob(os.path.join(MOVE_DIR, 'valid/*'))))\n",
    "print(len(glob(os.path.join(MOVE_DIR, 'test/*'))))"
   ]
  }
 ]
}