{
 "metadata": {
  "language_info": {
   "codemirror_mode": {
    "name": "ipython",
    "version": 3
   },
   "file_extension": ".py",
   "mimetype": "text/x-python",
   "name": "python",
   "nbconvert_exporter": "python",
   "pygments_lexer": "ipython3",
   "version": "3.7.7-final"
  },
  "orig_nbformat": 2,
  "kernelspec": {
   "name": "python377jvsc74a57bd098b0a9b7b4eaaa670588a142fd0a9b87eaafe866f1db4228be72b4211d12040f",
   "display_name": "Python 3.7.7 64-bit ('base': conda)"
  }
 },
 "nbformat": 4,
 "nbformat_minor": 2,
 "cells": [
  {
   "cell_type": "code",
   "execution_count": 1,
   "metadata": {},
   "outputs": [],
   "source": [
    "import os\n",
    "from glob import glob\n",
    "import sys\n",
    "import torch\n",
    "from torch import nn, optim\n",
    "from torchvision import models\n",
    "from torchsummary import summary\n",
    "\n",
    "sys.path.insert(0, '../')\n",
    "from efficientnet_pytorch import EfficientNet\n"
   ]
  },
  {
   "cell_type": "code",
   "execution_count": 2,
   "metadata": {},
   "outputs": [
    {
     "output_type": "stream",
     "name": "stdout",
     "text": [
      "Loaded pretrained weights for efficientnet-b3\n"
     ]
    }
   ],
   "source": [
    "sample = torch.rand(2, 3, 224, 224)\n",
    "model = MultiClassTHANet_MK1()"
   ]
  },
  {
   "cell_type": "code",
   "execution_count": 3,
   "metadata": {},
   "outputs": [],
   "source": [
    "output = model(sample)"
   ]
  },
  {
   "cell_type": "code",
   "execution_count": 5,
   "metadata": {},
   "outputs": [
    {
     "output_type": "execute_result",
     "data": {
      "text/plain": [
       "tensor([[-0.7089, -0.3273, -0.3768, -0.2783, -0.1623,  0.4232,  0.1909,  0.5118,\n",
       "         -0.4787, -0.2707, -1.1350, -0.3011,  0.0543,  0.0664,  0.3099, -0.6440,\n",
       "         -0.8195, -0.1712],\n",
       "        [ 1.4834,  0.4557, -0.3170,  0.4907,  0.0023, -0.4227, -0.0490, -0.1445,\n",
       "         -0.1518,  0.3554,  0.6496, -0.8257, -0.6407, -0.0661, -0.6452, -0.4493,\n",
       "          0.5930, -0.3751]], grad_fn=<AddmmBackward>)"
      ]
     },
     "metadata": {},
     "execution_count": 5
    }
   ],
   "source": [
    "output"
   ]
  },
  {
   "source": [
    "attn_scores.size()"
   ],
   "cell_type": "code",
   "metadata": {},
   "execution_count": 15,
   "outputs": [
    {
     "output_type": "execute_result",
     "data": {
      "text/plain": [
       "torch.Size([2, 3, 64])"
      ]
     },
     "metadata": {},
     "execution_count": 15
    }
   ]
  }
 ]
}