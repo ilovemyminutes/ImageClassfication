{
 "metadata": {
  "language_info": {
   "codemirror_mode": {
    "name": "ipython",
    "version": 3
   },
   "file_extension": ".py",
   "mimetype": "text/x-python",
   "name": "python",
   "nbconvert_exporter": "python",
   "pygments_lexer": "ipython3",
   "version": "3.7.7-final"
  },
  "orig_nbformat": 2,
  "kernelspec": {
   "name": "python377jvsc74a57bd098b0a9b7b4eaaa670588a142fd0a9b87eaafe866f1db4228be72b4211d12040f",
   "display_name": "Python 3.7.7 64-bit ('base': conda)"
  }
 },
 "nbformat": 4,
 "nbformat_minor": 2,
 "cells": [
  {
   "cell_type": "code",
   "execution_count": 9,
   "metadata": {},
   "outputs": [],
   "source": [
    "import sys\n",
    "\n",
    "sys.path.insert(0, '../')\n",
    "from model import load_model"
   ]
  },
  {
   "cell_type": "code",
   "execution_count": 21,
   "metadata": {},
   "outputs": [],
   "source": [
    "TASKS = ['mask', 'gender', 'ageg']\n",
    "WEIGHTS = {'mask':6, 'gender':3, 'ageg':1}\n",
    "\n",
    "param_dict = dict()\n",
    "\n",
    "param_dict['ageg'] = 'VanillaEfficientNet_task(ageg)ep(02)f1(0.8562)loss(0.0008)lr(0.001)trans(random)optim(adamp)crit(labelsmoothingLoss)seed(42).pth'\n",
    "param_dict['mask'] = 'VanillaEfficientNet_task(mask)ep(09)f1(0.9845)bs(64)loss(0.0007)lr(0.005)trans(base)optim(adam)crit(labelsmoothingLoss)seed(42).pth'\n",
    "param_dict['gender'] = 'VanillaEfficientNet_task(gender)ep(08)f1(0.9736)bs(32)loss(0.0006)lr(0.001)trans(random)optim(adamp)crit(labelsmoothingLoss)seed(42).pth'\n"
   ]
  },
  {
   "cell_type": "code",
   "execution_count": 16,
   "metadata": {},
   "outputs": [],
   "source": [
    "MODELPATH = '../saved_models'"
   ]
  },
  {
   "cell_type": "code",
   "execution_count": 23,
   "metadata": {},
   "outputs": [
    {
     "output_type": "stream",
     "name": "stdout",
     "text": [
      "Loaded pretrained weights for efficientnet-b3\n",
      "Loaded pretrained weights from ../saved_models/mask/VanillaEfficientNet_task(mask)ep(09)f1(0.9845)bs(64)loss(0.0007)lr(0.005)trans(base)optim(adam)crit(labelsmoothingLoss)seed(42).pth\n",
      "Loaded pretrained weights for efficientnet-b3\n",
      "Loaded pretrained weights from ../saved_models/gender/VanillaEfficientNet_task(gender)ep(08)f1(0.9736)bs(32)loss(0.0006)lr(0.001)trans(random)optim(adamp)crit(labelsmoothingLoss)seed(42).pth\n",
      "Loaded pretrained weights for efficientnet-b3\n",
      "Loaded pretrained weights from ../saved_models/ageg/VanillaEfficientNet_task(ageg)ep(02)f1(0.8562)loss(0.0008)lr(0.001)trans(random)optim(adamp)crit(labelsmoothingLoss)seed(42).pth\n"
     ]
    }
   ],
   "source": [
    "model_dict = dict()\r\n",
    "\r\n",
    "for task in TASKS:\r\n",
    "    load_state_dict = os.path.join(MODELPATH, task, param_dict[task])\r\n",
    "    model_type = param_dict[task].split('_')[0]\r\n",
    "    transform_type = param_dict[task].split('trans(')[-1].split(')')[0]\r\n",
    "    model = load_model(model_type=model_type, task=task, load_state_dict=load_state_dict)\r\n",
    "    model_dict[task] = model\r\n",
    "\r\n",
    "    "
   ]
  },
  {
   "cell_type": "code",
   "execution_count": 19,
   "metadata": {},
   "outputs": [
    {
     "output_type": "stream",
     "name": "stdout",
     "text": [
      "Loaded pretrained weights for efficientnet-b3\nLoaded pretrained weights from ../saved_models/VanillaEfficientNet_task(ageg)ep(02)f1(0.8562)loss(0.0008)lr(0.001)trans(random)optim(adamp)crit(labelsmoothingLoss)seed(42).pth\n"
     ]
    }
   ],
   "source": []
  }
 ]
}