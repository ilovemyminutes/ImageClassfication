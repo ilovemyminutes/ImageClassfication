{
 "metadata": {
  "language_info": {
   "codemirror_mode": {
    "name": "ipython",
    "version": 3
   },
   "file_extension": ".py",
   "mimetype": "text/x-python",
   "name": "python",
   "nbconvert_exporter": "python",
   "pygments_lexer": "ipython3",
   "version": "3.7.7-final"
  },
  "orig_nbformat": 2,
  "kernelspec": {
   "name": "python3",
   "display_name": "Python 3.7.7 64-bit ('base': conda)",
   "metadata": {
    "interpreter": {
     "hash": "98b0a9b7b4eaaa670588a142fd0a9b87eaafe866f1db4228be72b4211d12040f"
    }
   }
  }
 },
 "nbformat": 4,
 "nbformat_minor": 2,
 "cells": [
  {
   "source": [
    "# 학습 데이터를 카테고리에 맞게 재배치\n",
    "\n",
    "## \n",
    "- `ImageFolder` 활용하기 위해 학습 이미지를 새로운 폴더로 재배치\n",
    "```\n",
    "학습 데이터를 카테고리에 맞게 재배치\n",
    "\n",
    "## \n",
    "- `ImageFolder` 활용하기 위해 학습 이미지를 새로운 폴더로 재배치\n",
    "```\n",
    "ㄷ\n",
    "```\n",
    "- 레이블링 기준은 [여기](http://boostcamp.stages.ai/competitions/1/data/description)에서 확인할 수 있다\n",
    "    \n",
    "    "
   ],
   "cell_type": "markdown",
   "metadata": {}
  },
  {
   "cell_type": "code",
   "execution_count": 1,
   "metadata": {},
   "outputs": [],
   "source": [
    "import os\n",
    "from glob import glob\n",
    "from tqdm import tqdm\n",
    "import shutil"
   ]
  },
  {
   "cell_type": "code",
   "execution_count": 2,
   "metadata": {},
   "outputs": [
    {
     "output_type": "execute_result",
     "data": {
      "text/plain": [
       "[('mask', 'male', (0, 30)),\n",
       " ('mask', 'male', (30, 60)),\n",
       " ('mask', 'male', (60, 999)),\n",
       " ('mask', 'female', (0, 30)),\n",
       " ('mask', 'female', (30, 60)),\n",
       " ('mask', 'female', (60, 999)),\n",
       " ('incorrect_mask', 'male', (0, 30)),\n",
       " ('incorrect_mask', 'male', (30, 60)),\n",
       " ('incorrect_mask', 'male', (60, 999)),\n",
       " ('incorrect_mask', 'female', (0, 30)),\n",
       " ('incorrect_mask', 'female', (30, 60)),\n",
       " ('incorrect_mask', 'female', (60, 999)),\n",
       " ('normal', 'male', (0, 30)),\n",
       " ('normal', 'male', (30, 60)),\n",
       " ('normal', 'male', (60, 999)),\n",
       " ('normal', 'female', (0, 30)),\n",
       " ('normal', 'female', (30, 60)),\n",
       " ('normal', 'female', (60, 999))]"
      ]
     },
     "metadata": {},
     "execution_count": 2
    }
   ],
   "source": [
    "masks = ['mask', 'incorrect_mask', 'normal'] # 정착용 / 불완전착용 / 미착용\n",
    "genders = ['male', 'female'] # 남성 / 여성\n",
    "age_groups = [(0, 30), (30, 60), (60, 999)] # 30대 미만 / 30대 이상 60대 미만 / 60대 이상\n",
    "\n",
    "class_metadata = []\n",
    "for m in masks:\n",
    "    for g in genders:\n",
    "        for a in age_groups:\n",
    "            class_metadata.append((m, g, a))\n",
    "\n",
    "class_metadata"
   ]
  },
  {
   "cell_type": "code",
   "execution_count": 3,
   "metadata": {},
   "outputs": [],
   "source": [
    "\n",
    "def get_class(folder_name: str, img_name: str, class_metadata: list) -> int:\n",
    "    \"\"\"\n",
    "    18개 카테고리 중 해당되는 클래스 인덱스를 리턴\n",
    "\n",
    "    Reference.\n",
    "        - http://boostcamp.stages.ai/competitions/1/data/description\n",
    "    \"\"\"\n",
    "\n",
    "    gender = 'female' if 'female' in folder_name else 'male'\n",
    "\n",
    "    age = int(folder_name.split('_')[-1])\n",
    "    if age < 30:\n",
    "        age_group = (0, 30) # 30대 미만\n",
    "    elif age >= 60:\n",
    "        age_group = (60, 999) # 60대 이상\n",
    "    else:\n",
    "        age_group = (30, 60) # 그 외\n",
    "\n",
    "    if 'incorrect' in img_name: # 불완전 착용\n",
    "        mask_state = 'incorrect_mask'\n",
    "    elif 'normal' in img_name: # 미착용\n",
    "        mask_state = 'normal'\n",
    "    else: # 정착용\n",
    "        mask_state = 'mask'\n",
    "\n",
    "    metadata = (mask_state, gender, age_group)\n",
    "    class_ = class_metadata.index(metadata) # 클래스 추출\n",
    "    return class_\n"
   ]
  },
  {
   "cell_type": "code",
   "execution_count": 4,
   "metadata": {},
   "outputs": [],
   "source": [
    "# 카테고리별 이미지 폴더를 생성\n",
    "SAVE_DIR = '../preprocessed/train' # 이미지를 이동/복사할 디렉토리\n",
    "\n",
    "try:\n",
    "    os.listdir(SAVE_DIR)\n",
    "except:\n",
    "    os.mkdir(SAVE_DIR)\n",
    "\n",
    "# 18 개 클래스 생성\n",
    "for i in range(18):\n",
    "    if str(i) not in os.listdir(SAVE_DIR):\n",
    "        os.mkdir(os.path.join(SAVE_DIR, str(i)))"
   ]
  },
  {
   "cell_type": "code",
   "execution_count": 5,
   "metadata": {},
   "outputs": [
    {
     "output_type": "stream",
     "name": "stderr",
     "text": [
      "Classify Train Data: 100%|██████████| 2700/2700 [00:02<00:00, 1304.77it/s]\n"
     ]
    }
   ],
   "source": [
    "for folder in tqdm(glob('../input/data/train/images/*'), desc='Classify Train Data'):\n",
    "    folder_name = os.path.basename(folder)\n",
    "    for img in glob(os.path.join(folder, '*')):\n",
    "        img_name = os.path.basename(img)\n",
    "        class_ = get_class(folder_name, img_name, class_metadata)\n",
    "        copy_file_path = os.path.join(SAVE_DIR, str(class_), f'{folder_name}_{img_name}')\n",
    "        shutil.copy(img, copy_file_path)"
   ]
  },
  {
   "cell_type": "code",
   "execution_count": 6,
   "metadata": {},
   "outputs": [
    {
     "output_type": "stream",
     "name": "stdout",
     "text": [
      "파일 수: 2050, 클래스: 1\n파일 수: 732, 클래스: 15\n파일 수: 4085, 클래스: 4\n파일 수: 410, 클래스: 13\n파일 수: 415, 클래스: 2\n파일 수: 109, 클래스: 11\n파일 수: 83, 클래스: 14\n파일 수: 549, 클래스: 6\n파일 수: 83, 클래스: 8\n파일 수: 545, 클래스: 5\n파일 수: 109, 클래스: 17\n파일 수: 410, 클래스: 7\n파일 수: 817, 클래스: 10\n파일 수: 2745, 클래스: 0\n파일 수: 549, 클래스: 12\n파일 수: 3660, 클래스: 3\n파일 수: 817, 클래스: 16\n파일 수: 732, 클래스: 9\n전체 데이터: 18900\n"
     ]
    }
   ],
   "source": [
    "# 복사가 잘 되었는지 확인\n",
    "total_files = 0\n",
    "for dir_ in glob(os.path.join(SAVE_DIR, '*')):\n",
    "    num_files = len(os.listdir(dir_))\n",
    "    class_ = os.path.basename(dir_)\n",
    "    print(f'파일 수: {num_files}, 클래스: {class_}')\n",
    "    total_files += num_files\n",
    "print('전체 데이터:', total_files)"
   ]
  },
  {
   "cell_type": "code",
   "execution_count": null,
   "metadata": {},
   "outputs": [],
   "source": []
  }
 ]
}