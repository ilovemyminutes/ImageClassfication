{
 "metadata": {
  "language_info": {
   "codemirror_mode": {
    "name": "ipython",
    "version": 3
   },
   "file_extension": ".py",
   "mimetype": "text/x-python",
   "name": "python",
   "nbconvert_exporter": "python",
   "pygments_lexer": "ipython3",
   "version": "3.7.7-final"
  },
  "orig_nbformat": 2,
  "kernelspec": {
   "name": "python3",
   "display_name": "Python 3.7.7 64-bit ('base': conda)",
   "metadata": {
    "interpreter": {
     "hash": "98b0a9b7b4eaaa670588a142fd0a9b87eaafe866f1db4228be72b4211d12040f"
    }
   }
  }
 },
 "nbformat": 4,
 "nbformat_minor": 2,
 "cells": [
  {
   "cell_type": "code",
   "execution_count": 62,
   "metadata": {},
   "outputs": [],
   "source": [
    "import os\n",
    "from glob import glob\n",
    "from tqdm import tqdm\n",
    "import shutil\n",
    "import numpy as np"
   ]
  },
  {
   "source": [
    "Train : Valid : Test = 75 : 15 : 10"
   ],
   "cell_type": "markdown",
   "metadata": {}
  },
  {
   "cell_type": "code",
   "execution_count": 63,
   "metadata": {},
   "outputs": [],
   "source": [
    "# 이미지를 이동/복사할 디렉토리 설정\n",
    "TRAIN = '../preprocessed/train' \n",
    "VALID = '../preprocessed/valid'\n",
    "TEST = '../preprocessed/test'\n",
    "\n",
    "valid_rate = 0.15\n",
    "test_rate = 0.1\n",
    "\n",
    "num_samples = 0\n",
    "samples = []\n",
    "\n",
    "for dir_ in glob(os.path.join(TRAIN, '*')):\n",
    "    num_files = len(os.listdir(dir_))\n",
    "    samples.extend(glob(os.path.join(dir_, '*')))\n",
    "    class_ = os.path.basename(dir_)\n",
    "    num_samples += num_files\n",
    "\n",
    "valid_size = int(num_samples*valid_rate)\n",
    "test_size = int(num_samples*test_rate)"
   ]
  },
  {
   "cell_type": "code",
   "execution_count": 66,
   "metadata": {},
   "outputs": [],
   "source": [
    "np.random.seed(SEED)\n",
    "valid_samples = np.random.choice(samples, size=valid_size, replace=False).tolist()\n",
    "samples = list(filter(lambda x: x not in valid_samples, samples)) # valid 데이터와 중복되지 않도록 이미 추출한 train subsample은 제거\n",
    "test_samples = np.random.choice(samples, size=test_size, replace=False).tolist()"
   ]
  },
  {
   "cell_type": "code",
   "execution_count": 67,
   "metadata": {},
   "outputs": [],
   "source": [
    "# Valid, Test 디렉토리에 클래스별 폴더 생성\n",
    "for i in range(18):\n",
    "    if str(i) not in os.listdir(VALID):\n",
    "        os.mkdir(os.path.join(VALID, str(i)))\n",
    "    if str(i) not in os.listdir(TEST):\n",
    "        os.mkdir(os.path.join(TEST, str(i)))"
   ]
  },
  {
   "cell_type": "code",
   "execution_count": 68,
   "metadata": {},
   "outputs": [
    {
     "output_type": "stream",
     "name": "stderr",
     "text": [
      "100%|██████████| 2835/2835 [00:00<00:00, 37722.63it/s]\n"
     ]
    }
   ],
   "source": [
    "for v in tqdm(valid_samples):\n",
    "    name = os.path.basename(v)\n",
    "    class_ = v.split('/')[-2]\n",
    "    move_to = os.path.join(VALID, class_, name)\n",
    "    shutil.move(v, move_to)"
   ]
  },
  {
   "cell_type": "code",
   "execution_count": 69,
   "metadata": {},
   "outputs": [
    {
     "output_type": "stream",
     "name": "stderr",
     "text": [
      "100%|██████████| 1890/1890 [00:00<00:00, 29962.94it/s]\n"
     ]
    }
   ],
   "source": [
    "for t in tqdm(test_samples):\n",
    "    name = os.path.basename(t)\n",
    "    class_ = t.split('/')[-2]\n",
    "    move_to = os.path.join(TEST, class_, name)\n",
    "    shutil.move(t, move_to)"
   ]
  }
 ]
}