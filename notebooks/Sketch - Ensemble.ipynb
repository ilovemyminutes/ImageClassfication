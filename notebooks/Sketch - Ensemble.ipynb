{
 "metadata": {
  "language_info": {
   "codemirror_mode": {
    "name": "ipython",
    "version": 3
   },
   "file_extension": ".py",
   "mimetype": "text/x-python",
   "name": "python",
   "nbconvert_exporter": "python",
   "pygments_lexer": "ipython3",
   "version": "3.7.7-final"
  },
  "orig_nbformat": 2,
  "kernelspec": {
   "name": "python377jvsc74a57bd098b0a9b7b4eaaa670588a142fd0a9b87eaafe866f1db4228be72b4211d12040f",
   "display_name": "Python 3.7.7 64-bit ('base': conda)"
  }
 },
 "nbformat": 4,
 "nbformat_minor": 2,
 "cells": [
  {
   "cell_type": "code",
   "execution_count": 89,
   "metadata": {},
   "outputs": [
    {
     "output_type": "stream",
     "name": "stderr",
     "text": [
      "/opt/conda/lib/python3.7/importlib/_bootstrap.py:219: RuntimeWarning: numpy.ufunc size changed, may indicate binary incompatibility. Expected 192 from C header, got 216 from PyObject\n  return f(*args, **kwds)\n"
     ]
    }
   ],
   "source": [
    "import os\n",
    "import sys\n",
    "from glob import glob\n",
    "sys.path.insert(0, '../')\n",
    "import pandas as pd\n",
    "import numpy as np\n",
    "import torch\n",
    "from torch.nn import functional as F\n",
    "from model import load_model\n",
    "from torchvision import models"
   ]
  },
  {
   "cell_type": "code",
   "execution_count": 10,
   "metadata": {},
   "outputs": [],
   "source": [
    "ENSEMBLE_PATH = '../saved_models/kfold-ensemble-VanillaEfficientNet_20210407'"
   ]
  },
  {
   "cell_type": "code",
   "execution_count": 12,
   "metadata": {},
   "outputs": [],
   "source": [
    "folds = glob(os.path.join(ENSEMBLE_PATH, '*'))"
   ]
  },
  {
   "cell_type": "code",
   "execution_count": 14,
   "metadata": {},
   "outputs": [],
   "source": [
    "fold = folds[0]"
   ]
  },
  {
   "cell_type": "code",
   "execution_count": 33,
   "metadata": {},
   "outputs": [],
   "source": [
    "model = models.resnet18()"
   ]
  },
  {
   "cell_type": "code",
   "execution_count": 31,
   "metadata": {},
   "outputs": [
    {
     "output_type": "execute_result",
     "data": {
      "text/plain": [
       "['../saved_models/kfold-ensemble-VanillaEfficientNet_20210407/fold01/Fold01_VanillaEfficientNet_task(main)ep(28)f1(0.8311)bs(32)loss(0.0014)lr(0.001)trans(random)optim(adam)crit(labelsmoothingLoss)seed(42).pth',\n",
       " '../saved_models/kfold-ensemble-VanillaEfficientNet_20210407/fold01/Fold01_VanillaEfficientNet_task(main)ep(17)f1(0.8257)bs(32)loss(0.0014)lr(0.001)trans(random)optim(adam)crit(labelsmoothingLoss)seed(42).pth',\n",
       " '../saved_models/kfold-ensemble-VanillaEfficientNet_20210407/fold01/Fold01_VanillaEfficientNet_task(main)ep(13)f1(0.8207)bs(32)loss(0.0014)lr(0.001)trans(random)optim(adam)crit(labelsmoothingLoss)seed(42).pth',\n",
       " '../saved_models/kfold-ensemble-VanillaEfficientNet_20210407/fold01/Fold01_VanillaEfficientNet_task(main)ep(10)f1(0.8006)bs(32)loss(0.0014)lr(0.001)trans(random)optim(adam)crit(labelsmoothingLoss)seed(42).pth',\n",
       " '../saved_models/kfold-ensemble-VanillaEfficientNet_20210407/fold01/Fold01_VanillaEfficientNet_task(main)ep(09)f1(0.7830)bs(32)loss(0.0014)lr(0.001)trans(random)optim(adam)crit(labelsmoothingLoss)seed(42).pth',\n",
       " '../saved_models/kfold-ensemble-VanillaEfficientNet_20210407/fold01/Fold01_VanillaEfficientNet_task(main)ep(06)f1(0.7785)bs(32)loss(0.0014)lr(0.001)trans(random)optim(adam)crit(labelsmoothingLoss)seed(42).pth',\n",
       " '../saved_models/kfold-ensemble-VanillaEfficientNet_20210407/fold01/Fold01_VanillaEfficientNet_task(main)ep(03)f1(0.7545)bs(32)loss(0.0015)lr(0.001)trans(random)optim(adam)crit(labelsmoothingLoss)seed(42).pth',\n",
       " '../saved_models/kfold-ensemble-VanillaEfficientNet_20210407/fold01/Fold01_VanillaEfficientNet_task(main)ep(02)f1(0.7008)bs(32)loss(0.0016)lr(0.001)trans(random)optim(adam)crit(labelsmoothingLoss)seed(42).pth',\n",
       " '../saved_models/kfold-ensemble-VanillaEfficientNet_20210407/fold01/Fold01_VanillaEfficientNet_task(main)ep(01)f1(0.6732)bs(32)loss(0.0016)lr(0.001)trans(random)optim(adam)crit(labelsmoothingLoss)seed(42).pth',\n",
       " '../saved_models/kfold-ensemble-VanillaEfficientNet_20210407/fold01/Fold01_VanillaEfficientNet_task(main)ep(00)f1(0.5266)bs(32)loss(0.0018)lr(0.001)trans(random)optim(adam)crit(labelsmoothingLoss)seed(42).pth']"
      ]
     },
     "metadata": {},
     "execution_count": 31
    }
   ],
   "source": [
    "model_params = glob(os.path.join(fold, '*'))\n",
    "model_params.sort(key=lambda x: float(x.split('f1(')[-1].split(')')[0]), reverse=True)\n",
    "model_params"
   ]
  },
  {
   "cell_type": "code",
   "execution_count": 147,
   "metadata": {},
   "outputs": [
    {
     "output_type": "execute_result",
     "data": {
      "text/plain": [
       "0.8311"
      ]
     },
     "metadata": {},
     "execution_count": 147
    }
   ],
   "source": [
    "fname = os.path.basename(model_params[0])\n",
    "weight = float(fname.split('f1(')[-1].split(')')[0])"
   ]
  },
  {
   "cell_type": "code",
   "execution_count": 146,
   "metadata": {},
   "outputs": [
    {
     "output_type": "execute_result",
     "data": {
      "text/plain": [
       "0.8311"
      ]
     },
     "metadata": {},
     "execution_count": 146
    }
   ],
   "source": []
  },
  {
   "cell_type": "code",
   "execution_count": 37,
   "metadata": {},
   "outputs": [],
   "source": [
    "sample = torch.rand(2, 3, 224, 224)"
   ]
  },
  {
   "cell_type": "code",
   "execution_count": 62,
   "metadata": {},
   "outputs": [],
   "source": [
    "preds_hard = []\n",
    "preds_soft = []"
   ]
  },
  {
   "cell_type": "code",
   "execution_count": 52,
   "metadata": {},
   "outputs": [],
   "source": [
    "output = model(sample)"
   ]
  },
  {
   "cell_type": "code",
   "execution_count": 56,
   "metadata": {},
   "outputs": [],
   "source": [
    "soft = F.softmax(output, dim=1)"
   ]
  },
  {
   "cell_type": "code",
   "execution_count": 69,
   "metadata": {},
   "outputs": [
    {
     "output_type": "execute_result",
     "data": {
      "text/plain": [
       "(5, 5)"
      ]
     },
     "metadata": {},
     "execution_count": 69
    }
   ],
   "source": [
    "preds_hard.append(torch.argmax(soft, dim=1).data.numpy())\n",
    "preds_soft.append(soft.data.numpy())\n",
    "len(preds_hard), len(preds_soft)"
   ]
  },
  {
   "cell_type": "code",
   "execution_count": 78,
   "metadata": {},
   "outputs": [
    {
     "output_type": "execute_result",
     "data": {
      "text/plain": [
       "(5, (2, 1000))"
      ]
     },
     "metadata": {},
     "execution_count": 78
    }
   ],
   "source": [
    "len(preds_soft), preds_soft[0].shape"
   ]
  },
  {
   "cell_type": "code",
   "execution_count": 91,
   "metadata": {},
   "outputs": [],
   "source": [
    "ids = [i for i in range(10)]"
   ]
  },
  {
   "cell_type": "code",
   "execution_count": 94,
   "metadata": {},
   "outputs": [],
   "source": [
    "id_df = pd.DataFrame(dict(ImageID=ids))"
   ]
  },
  {
   "cell_type": "code",
   "execution_count": 104,
   "metadata": {},
   "outputs": [],
   "source": [
    "pred_list = []\n",
    "pred = pd.concat([id_df, pd.DataFrame(np.vstack(preds_soft))], axis=1)\n"
   ]
  },
  {
   "cell_type": "code",
   "execution_count": 114,
   "metadata": {},
   "outputs": [],
   "source": [
    "from scipy import stats\n",
    "from functools import reduce"
   ]
  },
  {
   "cell_type": "code",
   "execution_count": 108,
   "metadata": {},
   "outputs": [],
   "source": [
    "pred_list.append(pred.drop('ImageID', axis=1))"
   ]
  },
  {
   "cell_type": "code",
   "execution_count": 118,
   "metadata": {},
   "outputs": [
    {
     "output_type": "execute_result",
     "data": {
      "text/plain": [
       "0.3333333333333333"
      ]
     },
     "metadata": {},
     "execution_count": 118
    }
   ],
   "source": []
  },
  {
   "cell_type": "code",
   "execution_count": 131,
   "metadata": {},
   "outputs": [],
   "source": [
    "# geometric\n",
    "num_ensembles = len(pred_list)\n",
    "temp = reduce(lambda x, y: x*y, pred_list) ** (num_ensembles**(-1))\n",
    "temp = temp.apply(lambda x: x.argmax(), axis=1)"
   ]
  },
  {
   "cell_type": "code",
   "execution_count": 138,
   "metadata": {},
   "outputs": [],
   "source": [
    "# arithmetic\n",
    "num_ensembles = len(pred_list)\n",
    "temp = sum(pred_list) /num_ensembles\n",
    "temp = temp.apply(lambda x: x.argmax(), axis=1)"
   ]
  },
  {
   "cell_type": "code",
   "execution_count": 149,
   "metadata": {},
   "outputs": [
    {
     "output_type": "execute_result",
     "data": {
      "text/plain": [
       "3"
      ]
     },
     "metadata": {},
     "execution_count": 149
    }
   ],
   "source": [
    "len(pred_list)"
   ]
  },
  {
   "cell_type": "code",
   "execution_count": 199,
   "metadata": {},
   "outputs": [],
   "source": [
    "pred_list = []"
   ]
  },
  {
   "cell_type": "code",
   "execution_count": 204,
   "metadata": {},
   "outputs": [],
   "source": [
    "pred_list.append(pd.DataFrame(dict(ans=np.hstack(preds_hard))))"
   ]
  },
  {
   "cell_type": "code",
   "execution_count": 208,
   "metadata": {},
   "outputs": [],
   "source": [
    "temp = pd.concat(pred_list, axis=1)"
   ]
  },
  {
   "cell_type": "code",
   "execution_count": 227,
   "metadata": {},
   "outputs": [
    {
     "output_type": "execute_result",
     "data": {
      "text/plain": [
       "3"
      ]
     },
     "metadata": {},
     "execution_count": 227
    }
   ],
   "source": [
    "pd.Series([1,2,3,3,3,3,3,4]).value_counts().index[0]"
   ]
  },
  {
   "cell_type": "code",
   "execution_count": 228,
   "metadata": {},
   "outputs": [
    {
     "output_type": "execute_result",
     "data": {
      "text/plain": [
       "0    355\n",
       "1    193\n",
       "2    355\n",
       "3    193\n",
       "4    355\n",
       "5    193\n",
       "6    355\n",
       "7    193\n",
       "8    355\n",
       "9    193\n",
       "dtype: int64"
      ]
     },
     "metadata": {},
     "execution_count": 228
    }
   ],
   "source": [
    "temp.apply(lambda x: x.value_counts().index[0], axis=1)"
   ]
  },
  {
   "cell_type": "code",
   "execution_count": 154,
   "metadata": {},
   "outputs": [
    {
     "output_type": "error",
     "ename": "AttributeError",
     "evalue": "'int' object has no attribute 'sum'",
     "traceback": [
      "\u001b[0;31m---------------------------------------------------------------------------\u001b[0m",
      "\u001b[0;31mAttributeError\u001b[0m                            Traceback (most recent call last)",
      "\u001b[0;32m<ipython-input-154-071f7842e8c3>\u001b[0m in \u001b[0;36m<module>\u001b[0;34m\u001b[0m\n\u001b[0;32m----> 1\u001b[0;31m \u001b[0mnp\u001b[0m\u001b[0;34m.\u001b[0m\u001b[0marray\u001b[0m\u001b[0;34m(\u001b[0m\u001b[0mweight_list\u001b[0m\u001b[0;34m)\u001b[0m \u001b[0;34m/\u001b[0m \u001b[0msum\u001b[0m\u001b[0;34m(\u001b[0m\u001b[0mweight_list\u001b[0m\u001b[0;34m)\u001b[0m\u001b[0;34m.\u001b[0m\u001b[0msum\u001b[0m\u001b[0;34m(\u001b[0m\u001b[0;34m)\u001b[0m\u001b[0;34m\u001b[0m\u001b[0;34m\u001b[0m\u001b[0m\n\u001b[0m",
      "\u001b[0;31mAttributeError\u001b[0m: 'int' object has no attribute 'sum'"
     ]
    }
   ],
   "source": [
    "(np.array(weight_list) / sum(weight_list)).sum()"
   ]
  },
  {
   "cell_type": "code",
   "execution_count": 180,
   "metadata": {},
   "outputs": [],
   "source": [
    "weights = map(lambda x: x / sum(weight_list), weight_list)\n",
    "temp = sum([w*pred for w, pred in zip(weights, pred_list)])"
   ]
  },
  {
   "cell_type": "code",
   "execution_count": 187,
   "metadata": {},
   "outputs": [
    {
     "output_type": "execute_result",
     "data": {
      "text/plain": [
       "0    355\n",
       "1    193\n",
       "2    355\n",
       "3    193\n",
       "4    355\n",
       "5    193\n",
       "6    355\n",
       "7    193\n",
       "8    355\n",
       "9    193\n",
       "dtype: int64"
      ]
     },
     "metadata": {},
     "execution_count": 187
    }
   ],
   "source": [
    "temp.apply(lambda x: np.argmax(x), axis=1)"
   ]
  },
  {
   "cell_type": "code",
   "execution_count": 179,
   "metadata": {},
   "outputs": [
    {
     "output_type": "execute_result",
     "data": {
      "text/plain": [
       "        0         1         2         3         4         5         6    \\\n",
       "0  0.000708  0.000679  0.001170  0.000504  0.000462  0.000621  0.001066   \n",
       "1  0.000729  0.000673  0.001306  0.000516  0.000364  0.000558  0.001022   \n",
       "2  0.000708  0.000679  0.001170  0.000504  0.000462  0.000621  0.001066   \n",
       "3  0.000729  0.000673  0.001306  0.000516  0.000364  0.000558  0.001022   \n",
       "4  0.000708  0.000679  0.001170  0.000504  0.000462  0.000621  0.001066   \n",
       "5  0.000729  0.000673  0.001306  0.000516  0.000364  0.000558  0.001022   \n",
       "6  0.000708  0.000679  0.001170  0.000504  0.000462  0.000621  0.001066   \n",
       "7  0.000729  0.000673  0.001306  0.000516  0.000364  0.000558  0.001022   \n",
       "8  0.000708  0.000679  0.001170  0.000504  0.000462  0.000621  0.001066   \n",
       "9  0.000729  0.000673  0.001306  0.000516  0.000364  0.000558  0.001022   \n",
       "\n",
       "        7         8         9    ...       990       991       992       993  \\\n",
       "0  0.001346  0.000776  0.000535  ...  0.000872  0.001203  0.001407  0.001638   \n",
       "1  0.001373  0.000785  0.000613  ...  0.000938  0.001414  0.001361  0.001493   \n",
       "2  0.001346  0.000776  0.000535  ...  0.000872  0.001203  0.001407  0.001638   \n",
       "3  0.001373  0.000785  0.000613  ...  0.000938  0.001414  0.001361  0.001493   \n",
       "4  0.001346  0.000776  0.000535  ...  0.000872  0.001203  0.001407  0.001638   \n",
       "5  0.001373  0.000785  0.000613  ...  0.000938  0.001414  0.001361  0.001493   \n",
       "6  0.001346  0.000776  0.000535  ...  0.000872  0.001203  0.001407  0.001638   \n",
       "7  0.001373  0.000785  0.000613  ...  0.000938  0.001414  0.001361  0.001493   \n",
       "8  0.001346  0.000776  0.000535  ...  0.000872  0.001203  0.001407  0.001638   \n",
       "9  0.001373  0.000785  0.000613  ...  0.000938  0.001414  0.001361  0.001493   \n",
       "\n",
       "        994       995       996       997       998       999  \n",
       "0  0.000848  0.000941  0.001244  0.000705  0.000730  0.000735  \n",
       "1  0.000758  0.001131  0.001192  0.000691  0.000791  0.000821  \n",
       "2  0.000848  0.000941  0.001244  0.000705  0.000730  0.000735  \n",
       "3  0.000758  0.001131  0.001192  0.000691  0.000791  0.000821  \n",
       "4  0.000848  0.000941  0.001244  0.000705  0.000730  0.000735  \n",
       "5  0.000758  0.001131  0.001192  0.000691  0.000791  0.000821  \n",
       "6  0.000848  0.000941  0.001244  0.000705  0.000730  0.000735  \n",
       "7  0.000758  0.001131  0.001192  0.000691  0.000791  0.000821  \n",
       "8  0.000848  0.000941  0.001244  0.000705  0.000730  0.000735  \n",
       "9  0.000758  0.001131  0.001192  0.000691  0.000791  0.000821  \n",
       "\n",
       "[10 rows x 1000 columns]"
      ],
      "text/html": "<div>\n<style scoped>\n    .dataframe tbody tr th:only-of-type {\n        vertical-align: middle;\n    }\n\n    .dataframe tbody tr th {\n        vertical-align: top;\n    }\n\n    .dataframe thead th {\n        text-align: right;\n    }\n</style>\n<table border=\"1\" class=\"dataframe\">\n  <thead>\n    <tr style=\"text-align: right;\">\n      <th></th>\n      <th>0</th>\n      <th>1</th>\n      <th>2</th>\n      <th>3</th>\n      <th>4</th>\n      <th>5</th>\n      <th>6</th>\n      <th>7</th>\n      <th>8</th>\n      <th>9</th>\n      <th>...</th>\n      <th>990</th>\n      <th>991</th>\n      <th>992</th>\n      <th>993</th>\n      <th>994</th>\n      <th>995</th>\n      <th>996</th>\n      <th>997</th>\n      <th>998</th>\n      <th>999</th>\n    </tr>\n  </thead>\n  <tbody>\n    <tr>\n      <th>0</th>\n      <td>0.000708</td>\n      <td>0.000679</td>\n      <td>0.001170</td>\n      <td>0.000504</td>\n      <td>0.000462</td>\n      <td>0.000621</td>\n      <td>0.001066</td>\n      <td>0.001346</td>\n      <td>0.000776</td>\n      <td>0.000535</td>\n      <td>...</td>\n      <td>0.000872</td>\n      <td>0.001203</td>\n      <td>0.001407</td>\n      <td>0.001638</td>\n      <td>0.000848</td>\n      <td>0.000941</td>\n      <td>0.001244</td>\n      <td>0.000705</td>\n      <td>0.000730</td>\n      <td>0.000735</td>\n    </tr>\n    <tr>\n      <th>1</th>\n      <td>0.000729</td>\n      <td>0.000673</td>\n      <td>0.001306</td>\n      <td>0.000516</td>\n      <td>0.000364</td>\n      <td>0.000558</td>\n      <td>0.001022</td>\n      <td>0.001373</td>\n      <td>0.000785</td>\n      <td>0.000613</td>\n      <td>...</td>\n      <td>0.000938</td>\n      <td>0.001414</td>\n      <td>0.001361</td>\n      <td>0.001493</td>\n      <td>0.000758</td>\n      <td>0.001131</td>\n      <td>0.001192</td>\n      <td>0.000691</td>\n      <td>0.000791</td>\n      <td>0.000821</td>\n    </tr>\n    <tr>\n      <th>2</th>\n      <td>0.000708</td>\n      <td>0.000679</td>\n      <td>0.001170</td>\n      <td>0.000504</td>\n      <td>0.000462</td>\n      <td>0.000621</td>\n      <td>0.001066</td>\n      <td>0.001346</td>\n      <td>0.000776</td>\n      <td>0.000535</td>\n      <td>...</td>\n      <td>0.000872</td>\n      <td>0.001203</td>\n      <td>0.001407</td>\n      <td>0.001638</td>\n      <td>0.000848</td>\n      <td>0.000941</td>\n      <td>0.001244</td>\n      <td>0.000705</td>\n      <td>0.000730</td>\n      <td>0.000735</td>\n    </tr>\n    <tr>\n      <th>3</th>\n      <td>0.000729</td>\n      <td>0.000673</td>\n      <td>0.001306</td>\n      <td>0.000516</td>\n      <td>0.000364</td>\n      <td>0.000558</td>\n      <td>0.001022</td>\n      <td>0.001373</td>\n      <td>0.000785</td>\n      <td>0.000613</td>\n      <td>...</td>\n      <td>0.000938</td>\n      <td>0.001414</td>\n      <td>0.001361</td>\n      <td>0.001493</td>\n      <td>0.000758</td>\n      <td>0.001131</td>\n      <td>0.001192</td>\n      <td>0.000691</td>\n      <td>0.000791</td>\n      <td>0.000821</td>\n    </tr>\n    <tr>\n      <th>4</th>\n      <td>0.000708</td>\n      <td>0.000679</td>\n      <td>0.001170</td>\n      <td>0.000504</td>\n      <td>0.000462</td>\n      <td>0.000621</td>\n      <td>0.001066</td>\n      <td>0.001346</td>\n      <td>0.000776</td>\n      <td>0.000535</td>\n      <td>...</td>\n      <td>0.000872</td>\n      <td>0.001203</td>\n      <td>0.001407</td>\n      <td>0.001638</td>\n      <td>0.000848</td>\n      <td>0.000941</td>\n      <td>0.001244</td>\n      <td>0.000705</td>\n      <td>0.000730</td>\n      <td>0.000735</td>\n    </tr>\n    <tr>\n      <th>5</th>\n      <td>0.000729</td>\n      <td>0.000673</td>\n      <td>0.001306</td>\n      <td>0.000516</td>\n      <td>0.000364</td>\n      <td>0.000558</td>\n      <td>0.001022</td>\n      <td>0.001373</td>\n      <td>0.000785</td>\n      <td>0.000613</td>\n      <td>...</td>\n      <td>0.000938</td>\n      <td>0.001414</td>\n      <td>0.001361</td>\n      <td>0.001493</td>\n      <td>0.000758</td>\n      <td>0.001131</td>\n      <td>0.001192</td>\n      <td>0.000691</td>\n      <td>0.000791</td>\n      <td>0.000821</td>\n    </tr>\n    <tr>\n      <th>6</th>\n      <td>0.000708</td>\n      <td>0.000679</td>\n      <td>0.001170</td>\n      <td>0.000504</td>\n      <td>0.000462</td>\n      <td>0.000621</td>\n      <td>0.001066</td>\n      <td>0.001346</td>\n      <td>0.000776</td>\n      <td>0.000535</td>\n      <td>...</td>\n      <td>0.000872</td>\n      <td>0.001203</td>\n      <td>0.001407</td>\n      <td>0.001638</td>\n      <td>0.000848</td>\n      <td>0.000941</td>\n      <td>0.001244</td>\n      <td>0.000705</td>\n      <td>0.000730</td>\n      <td>0.000735</td>\n    </tr>\n    <tr>\n      <th>7</th>\n      <td>0.000729</td>\n      <td>0.000673</td>\n      <td>0.001306</td>\n      <td>0.000516</td>\n      <td>0.000364</td>\n      <td>0.000558</td>\n      <td>0.001022</td>\n      <td>0.001373</td>\n      <td>0.000785</td>\n      <td>0.000613</td>\n      <td>...</td>\n      <td>0.000938</td>\n      <td>0.001414</td>\n      <td>0.001361</td>\n      <td>0.001493</td>\n      <td>0.000758</td>\n      <td>0.001131</td>\n      <td>0.001192</td>\n      <td>0.000691</td>\n      <td>0.000791</td>\n      <td>0.000821</td>\n    </tr>\n    <tr>\n      <th>8</th>\n      <td>0.000708</td>\n      <td>0.000679</td>\n      <td>0.001170</td>\n      <td>0.000504</td>\n      <td>0.000462</td>\n      <td>0.000621</td>\n      <td>0.001066</td>\n      <td>0.001346</td>\n      <td>0.000776</td>\n      <td>0.000535</td>\n      <td>...</td>\n      <td>0.000872</td>\n      <td>0.001203</td>\n      <td>0.001407</td>\n      <td>0.001638</td>\n      <td>0.000848</td>\n      <td>0.000941</td>\n      <td>0.001244</td>\n      <td>0.000705</td>\n      <td>0.000730</td>\n      <td>0.000735</td>\n    </tr>\n    <tr>\n      <th>9</th>\n      <td>0.000729</td>\n      <td>0.000673</td>\n      <td>0.001306</td>\n      <td>0.000516</td>\n      <td>0.000364</td>\n      <td>0.000558</td>\n      <td>0.001022</td>\n      <td>0.001373</td>\n      <td>0.000785</td>\n      <td>0.000613</td>\n      <td>...</td>\n      <td>0.000938</td>\n      <td>0.001414</td>\n      <td>0.001361</td>\n      <td>0.001493</td>\n      <td>0.000758</td>\n      <td>0.001131</td>\n      <td>0.001192</td>\n      <td>0.000691</td>\n      <td>0.000791</td>\n      <td>0.000821</td>\n    </tr>\n  </tbody>\n</table>\n<p>10 rows × 1000 columns</p>\n</div>"
     },
     "metadata": {},
     "execution_count": 179
    }
   ],
   "source": []
  }
 ]
}