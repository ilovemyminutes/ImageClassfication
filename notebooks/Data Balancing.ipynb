{
 "metadata": {
  "language_info": {
   "codemirror_mode": {
    "name": "ipython",
    "version": 3
   },
   "file_extension": ".py",
   "mimetype": "text/x-python",
   "name": "python",
   "nbconvert_exporter": "python",
   "pygments_lexer": "ipython3",
   "version": "3.7.7-final"
  },
  "orig_nbformat": 2,
  "kernelspec": {
   "name": "python377jvsc74a57bd098b0a9b7b4eaaa670588a142fd0a9b87eaafe866f1db4228be72b4211d12040f",
   "display_name": "Python 3.7.7 64-bit ('base': conda)"
  }
 },
 "nbformat": 4,
 "nbformat_minor": 2,
 "cells": [
  {
   "cell_type": "code",
   "execution_count": 6,
   "metadata": {},
   "outputs": [],
   "source": [
    "import os\n",
    "import sys\n",
    "from glob import glob\n",
    "from tqdm import tqdm\n",
    "import numpy as np\n",
    "import pandas as pd\n",
    "import pandas as pd\n",
    "import shutil\n",
    "\n",
    "from PIL import Image\n",
    "import matplotlib.pyplot as plt\n",
    "\n",
    "import torch\n",
    "from torch.utils.data import DataLoader, Dataset\n",
    "import torch.nn as nn\n",
    "\n",
    "sys.path.insert(0, '../')\n",
    "from dataset import LabelEncoder\n",
    "from utils import save_pickle, load_json, save_json\n",
    "from config import Task"
   ]
  },
  {
   "cell_type": "code",
   "execution_count": 7,
   "metadata": {},
   "outputs": [],
   "source": [
    "\n",
    "def cutmix(batch, alpha):\n",
    "    data, targets = batch\n",
    "\n",
    "    indices = torch.randperm(data.size(0))\n",
    "    shuffled_data = data[indices]\n",
    "    shuffled_targets = targets[indices]\n",
    "\n",
    "    lam = np.random.beta(alpha, alpha)\n",
    "\n",
    "    image_h, image_w = data.shape[2:]\n",
    "    cx = np.random.uniform(0, image_w)\n",
    "    cy = np.random.uniform(0, image_h)\n",
    "    w = image_w * np.sqrt(1 - lam)\n",
    "    h = image_h * np.sqrt(1 - lam)\n",
    "    x0 = int(np.round(max(cx - w / 2, 0)))\n",
    "    x1 = int(np.round(min(cx + w / 2, image_w)))\n",
    "    y0 = int(np.round(max(cy - h / 2, 0)))\n",
    "    y1 = int(np.round(min(cy + h / 2, image_h)))\n",
    "\n",
    "    data[:, :, y0:y1, x0:x1] = shuffled_data[:, :, y0:y1, x0:x1]\n",
    "    targets = (targets, shuffled_targets, lam)\n",
    "\n",
    "    return data, targets\n",
    "\n",
    "\n",
    "class CutMixCollator:\n",
    "    def __init__(self, alpha):\n",
    "        self.alpha = alpha\n",
    "\n",
    "    def __call__(self, batch):\n",
    "        batch = torch.utils.data.dataloader.default_collate(batch)\n",
    "        batch = cutmix(batch, self.alpha)\n",
    "        return batch\n",
    "\n",
    "\n",
    "class CutMixCriterion:\n",
    "    def __init__(self, reduction):\n",
    "        self.criterion = nn.CrossEntropyLoss(reduction=reduction)\n",
    "\n",
    "    def __call__(self, preds, targets):\n",
    "        targets1, targets2, lam = targets\n",
    "        return lam * self.criterion(\n",
    "            preds, targets1) + (1 - lam) * self.criterion(preds, targets2)"
   ]
  },
  {
   "cell_type": "code",
   "execution_count": 8,
   "metadata": {},
   "outputs": [],
   "source": [
    "import cv2\n",
    "from PIL import Image\n",
    "def mix_up(img1_path, img2_path, alpha = 0.5):\n",
    "    \"\"\"\n",
    "    INPUT\n",
    "    img1_path, img2_path : Mixup 하고자하는 image path\n",
    "    alpha : img2_path 이미지의 label(영향도)\n",
    "\n",
    "    OUTPUT\n",
    "    im_pil : MixUp img(PIL.Image 타입)\n",
    "    beta : img1_path 이미지의 label(영향도)\n",
    "    alpha : img2_path 이미지의 label(영향도)\n",
    "    (순서 유의)\n",
    "    \"\"\"\n",
    "    img1 = cv2.imread(img1_path)\n",
    "    img2 = cv2.imread(img2_path)\n",
    "    beta = 1.0 - alpha\n",
    "    \n",
    "    dst = cv2.addWeighted(img1, beta, img2, alpha, 0)\n",
    "    img = cv2.cvtColor(dst, cv2.COLOR_BGR2RGB)\n",
    "    \n",
    "    im_pil = Image.fromarray(img)\n",
    "    return im_pil, beta, alpha"
   ]
  },
  {
   "cell_type": "code",
   "execution_count": 25,
   "metadata": {},
   "outputs": [
    {
     "output_type": "stream",
     "name": "stdout",
     "text": [
      "17031 1869\n"
     ]
    }
   ],
   "source": [
    "TRAIN_DIR = '../preprocessed_stratified/train'\n",
    "TEST_DIR = '../preprocessed_stratified/test'\n",
    "META = '../preprocessed_stratified/metadata.json'\n",
    "SEED = 42\n",
    "\n",
    "metadata = load_json(META)\n",
    "\n",
    "train_size = len(glob(TRAIN_DIR + '/*'))\n",
    "test_size = len(glob(TEST_DIR + '/*'))\n",
    "\n",
    "print(train_size, test_size)"
   ]
  },
  {
   "cell_type": "code",
   "execution_count": 26,
   "metadata": {},
   "outputs": [],
   "source": [
    "decoder = {\n",
    "        'mask': {0: 'incorrect', 1:'wear', 2:'not_wear'},\n",
    "        'gender': {0:'male', 1:'female'},\n",
    "        'ageg': {0: 'young', 1: 'middle', 2: 'old'}\n",
    "        }"
   ]
  },
  {
   "cell_type": "code",
   "execution_count": 27,
   "metadata": {},
   "outputs": [
    {
     "output_type": "execute_result",
     "data": {
      "text/plain": [
       "[('wear', 'male', 'young'),\n",
       " ('wear', 'male', 'middle'),\n",
       " ('wear', 'male', 'old'),\n",
       " ('wear', 'female', 'young'),\n",
       " ('wear', 'female', 'middle'),\n",
       " ('wear', 'female', 'old'),\n",
       " ('incorrect', 'male', 'young'),\n",
       " ('incorrect', 'male', 'middle'),\n",
       " ('incorrect', 'male', 'old'),\n",
       " ('incorrect', 'female', 'young'),\n",
       " ('incorrect', 'female', 'middle'),\n",
       " ('incorrect', 'female', 'old'),\n",
       " ('not_wear', 'male', 'young'),\n",
       " ('not_wear', 'male', 'middle'),\n",
       " ('not_wear', 'male', 'old'),\n",
       " ('not_wear', 'female', 'young'),\n",
       " ('not_wear', 'female', 'middle'),\n",
       " ('not_wear', 'female', 'old')]"
      ]
     },
     "metadata": {},
     "execution_count": 27
    }
   ],
   "source": [
    "mask_states = ['wear','incorrect', 'not_wear']\n",
    "gender_states = ['male', 'female']\n",
    "ageg_states = ['young', 'middle', 'old']\n",
    "\n",
    "classes = []\n",
    "for m in mask_states:\n",
    "    for g in gender_states:\n",
    "        for a in ageg_states:\n",
    "            classes.append((m, g, a))\n",
    "classes"
   ]
  },
  {
   "cell_type": "code",
   "execution_count": 28,
   "metadata": {},
   "outputs": [],
   "source": [
    "data_per_class = {i:[] for i in range(18)}\n",
    "\n",
    "train_images = glob(os.path.join(TRAIN_DIR, '*'))\n",
    "\n",
    "for train_image in train_images:\n",
    "    name = os.path.basename(train_image)\n",
    "    mask_state = decoder['mask'][metadata[name]['mask']]\n",
    "    gender_state = decoder['gender'][metadata[name]['gender']]\n",
    "    ageg_state = decoder['ageg'][metadata[name]['ageg']]\n",
    "    main_state = classes.index((mask_state, gender_state, ageg_state))\n",
    "\n",
    "    data_per_class[main_state].append(name)"
   ]
  },
  {
   "cell_type": "code",
   "execution_count": 31,
   "metadata": {},
   "outputs": [
    {
     "output_type": "execute_result",
     "data": {
      "text/plain": [
       "0     2475\n",
       "1     1845\n",
       "2      375\n",
       "3     3295\n",
       "4     3680\n",
       "5      495\n",
       "6      495\n",
       "7      369\n",
       "8       75\n",
       "9      659\n",
       "10     736\n",
       "11      99\n",
       "12     495\n",
       "13     369\n",
       "14      75\n",
       "15     659\n",
       "16     736\n",
       "17      99\n",
       "dtype: int64"
      ]
     },
     "metadata": {},
     "execution_count": 31
    }
   ],
   "source": [
    "counts = pd.Series(data_per_class).apply(lambda x: len(x))\n",
    "counts"
   ]
  },
  {
   "cell_type": "code",
   "execution_count": 32,
   "metadata": {},
   "outputs": [
    {
     "output_type": "execute_result",
     "data": {
      "text/plain": [
       "2775.0"
      ]
     },
     "metadata": {},
     "execution_count": 32
    }
   ],
   "source": [
    "(75 * 74) / 2"
   ]
  },
  {
   "cell_type": "code",
   "execution_count": 34,
   "metadata": {},
   "outputs": [
    {
     "output_type": "execute_result",
     "data": {
      "text/plain": [
       "{0: 1225,\n",
       " 1: 1855,\n",
       " 2: 3325,\n",
       " 3: 405,\n",
       " 4: 20,\n",
       " 5: 3205,\n",
       " 6: 3205,\n",
       " 7: 3331,\n",
       " 8: 3625,\n",
       " 9: 3041,\n",
       " 10: 2964,\n",
       " 11: 3601,\n",
       " 12: 3205,\n",
       " 13: 3331,\n",
       " 14: 3625,\n",
       " 15: 3041,\n",
       " 16: 2964,\n",
       " 17: 3601}"
      ]
     },
     "metadata": {},
     "execution_count": 34
    }
   ],
   "source": [
    "NUM_AUGS = 3700\n",
    "SEED = 42\n",
    "num_augs = {i: j for i, j in enumerate((NUM_AUGS - counts).tolist())}\n",
    "num_augs"
   ]
  },
  {
   "cell_type": "code",
   "execution_count": 35,
   "metadata": {
    "tags": []
   },
   "outputs": [
    {
     "output_type": "stream",
     "name": "stderr",
     "text": [
      "100%|██████████| 1225/1225 [00:00<00:00, 2790.99it/s]\n",
      "100%|██████████| 1855/1855 [00:00<00:00, 1968.92it/s]\n",
      "100%|██████████| 3325/3325 [00:02<00:00, 1389.81it/s]\n",
      "100%|██████████| 405/405 [00:00<00:00, 858.70it/s]\n",
      "100%|██████████| 20/20 [00:00<00:00, 781.29it/s]\n",
      "100%|██████████| 3205/3205 [00:03<00:00, 912.12it/s]\n",
      "100%|██████████| 3205/3205 [00:05<00:00, 597.62it/s]\n",
      "100%|██████████| 3331/3331 [00:06<00:00, 485.43it/s]\n",
      "100%|██████████| 3625/3625 [00:06<00:00, 546.24it/s]\n",
      "100%|██████████| 3041/3041 [00:08<00:00, 338.76it/s]\n",
      "100%|██████████| 2964/2964 [00:10<00:00, 285.33it/s]\n",
      "100%|██████████| 3601/3601 [00:10<00:00, 327.43it/s]\n",
      "100%|██████████| 3205/3205 [00:12<00:00, 256.67it/s]\n",
      "100%|██████████| 3331/3331 [00:15<00:00, 210.88it/s]\n",
      "100%|██████████| 3625/3625 [00:15<00:00, 238.85it/s]\n",
      "100%|██████████| 3041/3041 [00:17<00:00, 171.72it/s]\n",
      "100%|██████████| 2964/2964 [00:19<00:00, 153.39it/s]\n",
      "100%|██████████| 3601/3601 [00:21<00:00, 171.44it/s]\n"
     ]
    }
   ],
   "source": [
    "np.random.seed(SEED)\n",
    "num_augs_pairs = {i:[] for i in range(18)}\n",
    "choosen = list()\n",
    "\n",
    "for class_ in range(18):\n",
    "    for _ in tqdm(range(num_augs[class_])):\n",
    "        pair = np.random.choice(data_per_class[class_], size=2, replace=False).tolist()\n",
    "        if pair not in choosen and pair[::-1] not in choosen:\n",
    "            num_augs_pairs[class_].append(pair)\n",
    "            choosen.extend([pair, pair[::-1]])\n",
    "            "
   ]
  },
  {
   "cell_type": "code",
   "execution_count": 36,
   "metadata": {},
   "outputs": [
    {
     "output_type": "stream",
     "name": "stdout",
     "text": [
      "1225\n1855\n3254\n405\n20\n3170\n3171\n3274\n2018\n3018\n2952\n2544\n3171\n3241\n1993\n3019\n2946\n2533\n"
     ]
    }
   ],
   "source": [
    "for i in range(18):\n",
    "    print(len(num_augs_pairs[i]))"
   ]
  },
  {
   "cell_type": "code",
   "execution_count": 37,
   "metadata": {},
   "outputs": [
    {
     "output_type": "stream",
     "name": "stderr",
     "text": [
      "100%|██████████| 1225/1225 [01:44<00:00, 11.71it/s]\n",
      "100%|██████████| 1855/1855 [02:53<00:00, 10.71it/s]\n",
      "100%|██████████| 3254/3254 [05:07<00:00, 10.58it/s]\n",
      "100%|██████████| 405/405 [00:34<00:00, 11.76it/s]\n",
      "100%|██████████| 20/20 [00:01<00:00, 10.12it/s]\n",
      "100%|██████████| 3170/3170 [04:37<00:00, 11.43it/s]\n",
      "100%|██████████| 3171/3171 [04:29<00:00, 11.77it/s]\n",
      "100%|██████████| 3274/3274 [05:06<00:00, 10.68it/s]\n",
      "100%|██████████| 2018/2018 [03:12<00:00, 10.50it/s]\n",
      "100%|██████████| 3018/3018 [04:18<00:00, 11.69it/s]\n",
      "100%|██████████| 2952/2952 [04:39<00:00, 10.58it/s]\n",
      "100%|██████████| 2544/2544 [03:40<00:00, 11.55it/s]\n",
      "100%|██████████| 3171/3171 [04:28<00:00, 11.83it/s]\n",
      "100%|██████████| 3241/3241 [05:04<00:00, 10.64it/s]\n",
      "100%|██████████| 1993/1993 [03:10<00:00, 10.47it/s]\n",
      "100%|██████████| 3019/3019 [04:18<00:00, 11.70it/s]\n",
      "100%|██████████| 2946/2946 [04:37<00:00, 10.64it/s]\n",
      "100%|██████████| 2533/2533 [03:39<00:00, 11.52it/s]\n"
     ]
    }
   ],
   "source": [
    "for class_ in range(18):\n",
    "    for p1, p2 in tqdm(num_augs_pairs[class_]):\n",
    "        name = 'MIXUP_' + p1.split('.')[0] + '_' + p2.split('.')[0] + '.png'\n",
    "        metainfo = metadata[p1]\n",
    "\n",
    "        p1_path, p2_path = map(lambda x: os.path.join(TRAIN_DIR, x), [p1, p2])\n",
    "        img_mixed = mix_up(p1_path, p2_path, alpha=0.5)[0]\n",
    "        img_mixed.save(os.path.join(TRAIN_DIR, name), 'png')\n",
    "        metadata[name] = metainfo"
   ]
  },
  {
   "cell_type": "code",
   "execution_count": 41,
   "metadata": {},
   "outputs": [],
   "source": [
    "save_json('../preprocessed_stratified/metadata.json', metadata)"
   ]
  },
  {
   "cell_type": "code",
   "execution_count": 42,
   "metadata": {},
   "outputs": [],
   "source": [
    "aug_data_per_class = {i:[] for i in range(18)}\n",
    "\n",
    "train_images = glob(os.path.join(TRAIN_DIR, '*'))\n",
    "\n",
    "for train_image in train_images:\n",
    "    name = os.path.basename(train_image)\n",
    "    mask_state = decoder['mask'][metadata[name]['mask']]\n",
    "    gender_state = decoder['gender'][metadata[name]['gender']]\n",
    "    ageg_state = decoder['ageg'][metadata[name]['ageg']]\n",
    "    main_state = classes.index((mask_state, gender_state, ageg_state))\n",
    "\n",
    "    aug_data_per_class[main_state].append(name)"
   ]
  },
  {
   "cell_type": "code",
   "execution_count": 43,
   "metadata": {},
   "outputs": [
    {
     "output_type": "stream",
     "name": "stdout",
     "text": [
      "3700\n3700\n3629\n3700\n3700\n3665\n3666\n3643\n2093\n3677\n3688\n2643\n3666\n3610\n2068\n3678\n3682\n2632\n"
     ]
    }
   ],
   "source": [
    "for i in range(18):\n",
    "    print(len(aug_data_per_class[i]))"
   ]
  }
 ]
}