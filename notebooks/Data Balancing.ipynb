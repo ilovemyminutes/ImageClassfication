{
 "metadata": {
  "language_info": {
   "codemirror_mode": {
    "name": "ipython",
    "version": 3
   },
   "file_extension": ".py",
   "mimetype": "text/x-python",
   "name": "python",
   "nbconvert_exporter": "python",
   "pygments_lexer": "ipython3",
   "version": "3.7.7-final"
  },
  "orig_nbformat": 2,
  "kernelspec": {
   "name": "python377jvsc74a57bd098b0a9b7b4eaaa670588a142fd0a9b87eaafe866f1db4228be72b4211d12040f",
   "display_name": "Python 3.7.7 64-bit ('base': conda)"
  }
 },
 "nbformat": 4,
 "nbformat_minor": 2,
 "cells": [
  {
   "cell_type": "code",
   "execution_count": 1,
   "metadata": {},
   "outputs": [],
   "source": [
    "import os\n",
    "import sys\n",
    "from glob import glob\n",
    "from tqdm import tqdm\n",
    "import numpy as np\n",
    "import pandas as pd\n",
    "import pandas as pd\n",
    "import shutil\n",
    "\n",
    "from PIL import Image\n",
    "import matplotlib.pyplot as plt\n",
    "\n",
    "import torch\n",
    "from torch.utils.data import DataLoader, Dataset\n",
    "import torch.nn as nn\n",
    "\n",
    "sys.path.insert(0, '../')\n",
    "from dataset import LabelEncoder\n",
    "from utils import save_pickle, load_json\n",
    "from config import Task"
   ]
  },
  {
   "cell_type": "code",
   "execution_count": 2,
   "metadata": {},
   "outputs": [],
   "source": [
    "\n",
    "def cutmix(batch, alpha):\n",
    "    data, targets = batch\n",
    "\n",
    "    indices = torch.randperm(data.size(0))\n",
    "    shuffled_data = data[indices]\n",
    "    shuffled_targets = targets[indices]\n",
    "\n",
    "    lam = np.random.beta(alpha, alpha)\n",
    "\n",
    "    image_h, image_w = data.shape[2:]\n",
    "    cx = np.random.uniform(0, image_w)\n",
    "    cy = np.random.uniform(0, image_h)\n",
    "    w = image_w * np.sqrt(1 - lam)\n",
    "    h = image_h * np.sqrt(1 - lam)\n",
    "    x0 = int(np.round(max(cx - w / 2, 0)))\n",
    "    x1 = int(np.round(min(cx + w / 2, image_w)))\n",
    "    y0 = int(np.round(max(cy - h / 2, 0)))\n",
    "    y1 = int(np.round(min(cy + h / 2, image_h)))\n",
    "\n",
    "    data[:, :, y0:y1, x0:x1] = shuffled_data[:, :, y0:y1, x0:x1]\n",
    "    targets = (targets, shuffled_targets, lam)\n",
    "\n",
    "    return data, targets\n",
    "\n",
    "\n",
    "class CutMixCollator:\n",
    "    def __init__(self, alpha):\n",
    "        self.alpha = alpha\n",
    "\n",
    "    def __call__(self, batch):\n",
    "        batch = torch.utils.data.dataloader.default_collate(batch)\n",
    "        batch = cutmix(batch, self.alpha)\n",
    "        return batch\n",
    "\n",
    "\n",
    "class CutMixCriterion:\n",
    "    def __init__(self, reduction):\n",
    "        self.criterion = nn.CrossEntropyLoss(reduction=reduction)\n",
    "\n",
    "    def __call__(self, preds, targets):\n",
    "        targets1, targets2, lam = targets\n",
    "        return lam * self.criterion(\n",
    "            preds, targets1) + (1 - lam) * self.criterion(preds, targets2)"
   ]
  },
  {
   "cell_type": "code",
   "execution_count": 3,
   "metadata": {},
   "outputs": [],
   "source": [
    "import cv2\n",
    "from PIL import Image\n",
    "def mix_up(img1_path, img2_path, alpha = 0.5):\n",
    "    \"\"\"\n",
    "    INPUT\n",
    "    img1_path, img2_path : Mixup 하고자하는 image path\n",
    "    alpha : img2_path 이미지의 label(영향도)\n",
    "\n",
    "    OUTPUT\n",
    "    im_pil : MixUp img(PIL.Image 타입)\n",
    "    beta : img1_path 이미지의 label(영향도)\n",
    "    alpha : img2_path 이미지의 label(영향도)\n",
    "    (순서 유의)\n",
    "    \"\"\"\n",
    "    img1 = cv2.imread(img1_path)\n",
    "    img2 = cv2.imread(img2_path)\n",
    "    beta = 1.0 - alpha\n",
    "    \n",
    "    dst = cv2.addWeighted(img1, beta, img2, alpha, 0)\n",
    "    img = cv2.cvtColor(dst, cv2.COLOR_BGR2RGB)\n",
    "    \n",
    "    im_pil = Image.fromarray(img)\n",
    "    return im_pil, beta, alpha"
   ]
  },
  {
   "cell_type": "code",
   "execution_count": 4,
   "metadata": {},
   "outputs": [],
   "source": [
    "TRAIN_DIR = '../preprocessed_stratified/train'\n",
    "META = '../preprocessed_stratified/metadata.json'\n",
    "SEED = 42"
   ]
  },
  {
   "cell_type": "code",
   "execution_count": 81,
   "metadata": {},
   "outputs": [],
   "source": [
    "class TrainDataset(Dataset):\n",
    "    def __init__(self, root: str, transform=None, task: str=Task.All, meta_path:str=META):\n",
    "        \"\"\"마스크 상태, 나이, 나이대, 클래스(0~17)의 4가지 태스크에 따른 레이블링을 지원하는 데이터셋\n",
    "        \"\"\"\n",
    "        self.img_paths = glob(os.path.join(root, '*'))\n",
    "        self.metadata = load_json(meta_path)\n",
    "        self.task = task\n",
    "        self.transform = transform\n",
    "    \n",
    "    def __getitem__(self, index):\n",
    "        name = os.path.basename(self.img_paths[index])\n",
    "        img = Image.open(self.img_paths[index])\n",
    "        label = self.metadata[name]\n",
    "\n",
    "        if self.task != Task.All:\n",
    "            label = label[self.task]\n",
    "\n",
    "        if self.transform is not None:\n",
    "            img = self.transform(img)\n",
    "\n",
    "        return img, label\n",
    "        \n",
    "    def __len__(self):\n",
    "        return len(self.img_paths)"
   ]
  },
  {
   "cell_type": "code",
   "execution_count": 8,
   "metadata": {},
   "outputs": [],
   "source": [
    "metadata = load_json(META)"
   ]
  },
  {
   "cell_type": "code",
   "execution_count": 9,
   "metadata": {},
   "outputs": [],
   "source": [
    "decoder = {\n",
    "        'mask': {0: 'incorrect', 1:'wear', 2:'not_wear'},\n",
    "        'gender': {0:'male', 1:'female'},\n",
    "        'ageg': {0: 'young', 1: 'middle', 2: 'old'}\n",
    "        }"
   ]
  },
  {
   "cell_type": "code",
   "execution_count": 10,
   "metadata": {},
   "outputs": [
    {
     "output_type": "execute_result",
     "data": {
      "text/plain": [
       "[('wear', 'male', 'young'),\n",
       " ('wear', 'male', 'middle'),\n",
       " ('wear', 'male', 'old'),\n",
       " ('wear', 'female', 'young'),\n",
       " ('wear', 'female', 'middle'),\n",
       " ('wear', 'female', 'old'),\n",
       " ('incorrect', 'male', 'young'),\n",
       " ('incorrect', 'male', 'middle'),\n",
       " ('incorrect', 'male', 'old'),\n",
       " ('incorrect', 'female', 'young'),\n",
       " ('incorrect', 'female', 'middle'),\n",
       " ('incorrect', 'female', 'old'),\n",
       " ('not_wear', 'male', 'young'),\n",
       " ('not_wear', 'male', 'middle'),\n",
       " ('not_wear', 'male', 'old'),\n",
       " ('not_wear', 'female', 'young'),\n",
       " ('not_wear', 'female', 'middle'),\n",
       " ('not_wear', 'female', 'old')]"
      ]
     },
     "metadata": {},
     "execution_count": 10
    }
   ],
   "source": [
    "mask_states = ['wear','incorrect', 'not_wear']\n",
    "gender_states = ['male', 'female']\n",
    "ageg_states = ['young', 'middle', 'old']\n",
    "\n",
    "classes = []\n",
    "for m in mask_states:\n",
    "    for g in gender_states:\n",
    "        for a in ageg_states:\n",
    "            classes.append((m, g, a))\n",
    "classes"
   ]
  },
  {
   "cell_type": "code",
   "execution_count": 11,
   "metadata": {},
   "outputs": [],
   "source": [
    "data_per_class = {i:[] for i in range(18)}\n",
    "\n",
    "train_images = glob(os.path.join(TRAIN_DIR, '*'))\n",
    "\n",
    "for train_image in train_images:\n",
    "    name = os.path.basename(train_image)\n",
    "    mask_state = decoder['mask'][metadata[name]['mask']]\n",
    "    gender_state = decoder['gender'][metadata[name]['gender']]\n",
    "    ageg_state = decoder['ageg'][metadata[name]['ageg']]\n",
    "    main_state = classes.index((mask_state, gender_state, ageg_state))\n",
    "\n",
    "    data_per_class[main_state].append(name)"
   ]
  },
  {
   "cell_type": "code",
   "execution_count": 12,
   "metadata": {},
   "outputs": [],
   "source": [
    "counts = pd.Series(data_per_class).apply(lambda x: len(x))"
   ]
  },
  {
   "cell_type": "code",
   "execution_count": null,
   "metadata": {},
   "outputs": [],
   "source": [
    "counts"
   ]
  },
  {
   "source": [
    "각 클래스별 3100개로 증강"
   ],
   "cell_type": "markdown",
   "metadata": {}
  },
  {
   "cell_type": "code",
   "execution_count": 13,
   "metadata": {},
   "outputs": [
    {
     "output_type": "execute_result",
     "data": {
      "text/plain": [
       "{0: 1035,\n",
       " 1: 1560,\n",
       " 2: 2785,\n",
       " 3: 350,\n",
       " 4: 30,\n",
       " 5: 2685,\n",
       " 6: 2687,\n",
       " 7: 2792,\n",
       " 8: 3037,\n",
       " 9: 2550,\n",
       " 10: 2486,\n",
       " 11: 3017,\n",
       " 12: 2687,\n",
       " 13: 2792,\n",
       " 14: 3037,\n",
       " 15: 2550,\n",
       " 16: 2486,\n",
       " 17: 3017}"
      ]
     },
     "metadata": {},
     "execution_count": 13
    }
   ],
   "source": [
    "NUM_AUGS = 3100\n",
    "SEED = 42\n",
    "num_augs = {i: j for i, j in enumerate((NUM_AUGS - counts).tolist())}\n",
    "num_augs"
   ]
  },
  {
   "cell_type": "code",
   "execution_count": 14,
   "metadata": {
    "tags": []
   },
   "outputs": [],
   "source": [
    "np.random.seed(SEED)\n",
    "num_augs_pairs = {i:[] for i in range(18)}\n",
    "\n",
    "for class_ in range(18):\n",
    "    for _ in range(num_augs[class_]):\n",
    "        num_augs_pairs[class_].append(np.random.choice(data_per_class[class_], size=2, replace=False).tolist())"
   ]
  },
  {
   "cell_type": "code",
   "execution_count": 15,
   "metadata": {},
   "outputs": [],
   "source": [
    "class_ = 0\n",
    "idx = 0\n",
    "for class_ in range(18):\n",
    "    for p1, p2 in tqdm(num_augs_pairs[class_]):\n",
    "        name = 'MIXUP_' + p1.split('.')[0] + '_' + p2.split('.')[0] + '.png'\n",
    "        metainfo = metadata[p1]\n",
    "\n",
    "        p1_path, p2_path = map(lambda x: os.path.join(TRAIN_DIR, x), [p1, p2])\n",
    "        img_mixed = mix_up(p1_path, p2_path, alpha=0.5)[0]\n",
    "        img_mixed.save(os.path.join(TRAIN_DIR, name), 'png')\n",
    "        metadata[name] = metainfo"
   ]
  },
  {
   "cell_type": "code",
   "execution_count": null,
   "metadata": {},
   "outputs": [],
   "source": [
    "aug_data_per_class = {i:[] for i in range(18)}\n",
    "\n",
    "train_images = glob(os.path.join(TRAIN_DIR, '*'))\n",
    "\n",
    "for train_image in train_images:\n",
    "    name = os.path.basename(train_image)\n",
    "    mask_state = decoder['mask'][metadata[name]['mask']]\n",
    "    gender_state = decoder['gender'][metadata[name]['gender']]\n",
    "    ageg_state = decoder['ageg'][metadata[name]['ageg']]\n",
    "    main_state = classes.index((mask_state, gender_state, ageg_state))\n",
    "\n",
    "    aug_data_per_class[main_state].append(name)"
   ]
  }
 ]
}