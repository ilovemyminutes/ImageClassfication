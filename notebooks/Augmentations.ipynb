{
 "metadata": {
  "language_info": {
   "codemirror_mode": {
    "name": "ipython",
    "version": 3
   },
   "file_extension": ".py",
   "mimetype": "text/x-python",
   "name": "python",
   "nbconvert_exporter": "python",
   "pygments_lexer": "ipython3",
   "version": "3.7.7-final"
  },
  "orig_nbformat": 2,
  "kernelspec": {
   "name": "python377jvsc74a57bd098b0a9b7b4eaaa670588a142fd0a9b87eaafe866f1db4228be72b4211d12040f",
   "display_name": "Python 3.7.7 64-bit ('base': conda)"
  }
 },
 "nbformat": 4,
 "nbformat_minor": 2,
 "cells": [
  {
   "cell_type": "code",
   "execution_count": 1,
   "metadata": {},
   "outputs": [],
   "source": [
    "import os\n",
    "import sys\n",
    "from glob import glob\n",
    "from tqdm import tqdm\n",
    "import math\n",
    "from PIL import Image\n",
    "import numpy as np\n",
    "import pandas as pd\n",
    "import matplotlib.pyplot as plt\n",
    "import seaborn as sns\n",
    "from sklearn.metrics import f1_score\n",
    "import torch\n",
    "from torch.nn import functional as F\n",
    "from torch import nn\n",
    "from torch.utils.data import DataLoader\n",
    "sys.path.insert(0, '../')\n",
    "from utils import load_json, save_pickle\n",
    "from model import VanillaEfficientNet, load_model\n",
    "from dataset import TrainDataset, EvalDataset\n",
    "from transform_settings import configure_transform"
   ]
  },
  {
   "source": [
    "- CutMix\n",
    "- Data Imbalance"
   ],
   "cell_type": "markdown",
   "metadata": {}
  },
  {
   "cell_type": "code",
   "execution_count": 2,
   "metadata": {},
   "outputs": [],
   "source": [
    "INFO = '../preprocessed/info.pkl'\n",
    "META = '../preprocessed/metadata.json'\n",
    "TASK = 'age'\n",
    "train_transform = configure_transform('train', 'base')\n",
    "valid_transform = configure_transform('valid', 'base')\n",
    "infer_transform = configure_transform('eval', 'base')\n",
    "metadate = load_json('../preprocessed/metadata.json')"
   ]
  },
  {
   "cell_type": "code",
   "execution_count": 3,
   "metadata": {},
   "outputs": [],
   "source": [
    "config_age = ('../preprocessed/valid', configure_transform('valid', 'base'), 'age', META)\n",
    "config_ageg = ('../preprocessed/valid', configure_transform('valid', 'base'), 'ageg', META)\n",
    "\n",
    "validset_age = TrainDataset(*config_age)\n",
    "validset_ageg = TrainDataset(*config_ageg)\n",
    "\n",
    "validloader_age = DataLoader(validset_age, batch_size=32, shuffle=False, drop_last=False)\n",
    "validloader_ageg = DataLoader(validset_ageg, batch_size=32, shuffle=False, drop_last=False)"
   ]
  }
 ]
}