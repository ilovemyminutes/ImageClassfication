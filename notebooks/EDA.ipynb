{
 "cells": [
  {
   "cell_type": "code",
   "execution_count": 4,
   "id": "iraqi-earthquake",
   "metadata": {},
   "outputs": [],
   "source": [
    "import os\n",
    "from glob import glob\n",
    "\n",
    "from torch.utils.data import DataLoader, Dataset\n",
    "\n",
    "from PIL import Image\n",
    "import matplotlib.pyplot as plt\n",
    "import seaborn as sns\n",
    "plt.style.use('ggplot')"
   ]
  },
  {
   "cell_type": "markdown",
   "id": "valid-merit",
   "metadata": {},
   "source": [
    "\n",
    "# 의문들\n",
    "- ***Pixel Pattern***\n",
    "    - 카테고리별 이미지 특징들은 무엇이 있을까\n",
    "    - 카테고리별 '얼굴'이 차지하는 비율은 다를까\n",
    "    - 마스크 상태에 따라 밝기, 명도 등이 다를까\n",
    "    - 성별에 따라 얼굴 근방에 대한 픽셀 구성이 다를까\n",
    "- ***Crop***: 얼굴만 crop할 수 있는 방법이 무엇이 있을까"
   ]
  },
  {
   "cell_type": "code",
   "execution_count": 14,
   "id": "accurate-borough",
   "metadata": {},
   "outputs": [],
   "source": [
    "TRAIN = '../preprocessed/train'\n",
    "VALID = '../preprocessed/valid'\n",
    "TEST = '../preprocessed/test'\n",
    "\n",
    "img_class_dir = glob(os.path.join(TRAIN, '*'))\n",
    "img_class_dir.sort(key=lambda x: int(x.split('/')[-1]))\n",
    "img_class_dict = {int(i.split('/')[-1]):i for i in img_class_dir}"
   ]
  },
  {
   "cell_type": "code",
   "execution_count": 15,
   "id": "another-slave",
   "metadata": {},
   "outputs": [
    {
     "data": {
      "text/plain": [
       "{0: '../preprocessed/train/0',\n",
       " 1: '../preprocessed/train/1',\n",
       " 2: '../preprocessed/train/2',\n",
       " 3: '../preprocessed/train/3',\n",
       " 4: '../preprocessed/train/4',\n",
       " 5: '../preprocessed/train/5',\n",
       " 6: '../preprocessed/train/6',\n",
       " 7: '../preprocessed/train/7',\n",
       " 8: '../preprocessed/train/8',\n",
       " 9: '../preprocessed/train/9',\n",
       " 10: '../preprocessed/train/10',\n",
       " 11: '../preprocessed/train/11',\n",
       " 12: '../preprocessed/train/12',\n",
       " 13: '../preprocessed/train/13',\n",
       " 14: '../preprocessed/train/14',\n",
       " 15: '../preprocessed/train/15',\n",
       " 16: '../preprocessed/train/16',\n",
       " 17: '../preprocessed/train/17'}"
      ]
     },
     "execution_count": 15,
     "metadata": {},
     "output_type": "execute_result"
    }
   ],
   "source": [
    "img_class_dict"
   ]
  }
 ],
 "metadata": {
  "kernelspec": {
   "display_name": "Python 3",
   "language": "python",
   "name": "python3"
  },
  "language_info": {
   "codemirror_mode": {
    "name": "ipython",
    "version": 3
   },
   "file_extension": ".py",
   "mimetype": "text/x-python",
   "name": "python",
   "nbconvert_exporter": "python",
   "pygments_lexer": "ipython3",
   "version": "3.7.7"
  }
 },
 "nbformat": 4,
 "nbformat_minor": 5
}
