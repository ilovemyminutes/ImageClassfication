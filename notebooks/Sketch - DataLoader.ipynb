{
 "metadata": {
  "language_info": {
   "codemirror_mode": {
    "name": "ipython",
    "version": 3
   },
   "file_extension": ".py",
   "mimetype": "text/x-python",
   "name": "python",
   "nbconvert_exporter": "python",
   "pygments_lexer": "ipython3",
   "version": "3.7.7-final"
  },
  "orig_nbformat": 2,
  "kernelspec": {
   "name": "python3",
   "display_name": "Python 3.7.7 64-bit ('base': conda)",
   "metadata": {
    "interpreter": {
     "hash": "98b0a9b7b4eaaa670588a142fd0a9b87eaafe866f1db4228be72b4211d12040f"
    }
   }
  }
 },
 "nbformat": 4,
 "nbformat_minor": 2,
 "cells": [
  {
   "cell_type": "code",
   "execution_count": 13,
   "metadata": {},
   "outputs": [],
   "source": [
    "from glob import glob\n",
    "import sys\n",
    "sys.path.insert(0, '../')\n",
    "\n",
    "import pandas as pd\n",
    "import torch\n",
    "from torch import nn\n",
    "from torchvision.datasets import ImageFolder\n",
    "from torch.utils.data import DataLoader, Dataset\n",
    "from augmentation import configure_transform\n",
    "from utils import save_json, load_json\n",
    "from dataset import get_dataloader\n",
    "from model import VanillaResNet"
   ]
  },
  {
   "cell_type": "code",
   "execution_count": 3,
   "metadata": {},
   "outputs": [],
   "source": [
    "loader = get_dataloader('test', \"../preprocessed/test\", batch_size=1, transform_type='base', shuffle=False, drop_last=False)"
   ]
  },
  {
   "cell_type": "code",
   "execution_count": 18,
   "metadata": {},
   "outputs": [
    {
     "output_type": "stream",
     "name": "stdout",
     "text": [
      "Evaluation\n"
     ]
    }
   ],
   "source": [
    "model = VanillaResNet()\n",
    "model.cuda()\n",
    "model.eval()\n",
    "print('Evaluation')"
   ]
  },
  {
   "cell_type": "code",
   "execution_count": 20,
   "metadata": {},
   "outputs": [
    {
     "output_type": "execute_result",
     "data": {
      "text/plain": [
       "(torch.Size([1, 3, 224, 224]), torch.Size([1]), torch.Size([1, 18]))"
      ]
     },
     "metadata": {},
     "execution_count": 20
    }
   ],
   "source": [
    "with torch.no_grad():\n",
    "    for img, label in loader:\n",
    "        img = img.cuda()\n",
    "        break\n",
    "    output = model(img)\n",
    "img.size(), label.size(), output.size()"
   ]
  },
  {
   "cell_type": "code",
   "execution_count": 22,
   "metadata": {},
   "outputs": [
    {
     "output_type": "execute_result",
     "data": {
      "text/plain": [
       "0"
      ]
     },
     "metadata": {},
     "execution_count": 22
    }
   ],
   "source": [
    "label.item()"
   ]
  },
  {
   "cell_type": "code",
   "execution_count": 2,
   "metadata": {},
   "outputs": [],
   "source": [
    "transform = configure_transform(phase='train', transform_type='base')\n",
    "transform_valid = configure_transform('valid', transform_type='base')"
   ]
  },
  {
   "cell_type": "code",
   "execution_count": 8,
   "metadata": {},
   "outputs": [],
   "source": [
    "train = ImageFolder('../preprocessed/train', transform=transform)"
   ]
  },
  {
   "cell_type": "code",
   "execution_count": null,
   "metadata": {},
   "outputs": [],
   "source": [
    "valid = Dataset('../input/data/eval/images')"
   ]
  },
  {
   "cell_type": "code",
   "execution_count": 8,
   "metadata": {},
   "outputs": [],
   "source": [
    "info = pd.read_csv('../input/data/eval/info.csv')"
   ]
  },
  {
   "cell_type": "code",
   "execution_count": 28,
   "metadata": {},
   "outputs": [
    {
     "output_type": "execute_result",
     "data": {
      "text/plain": [
       "                                           ImageID  ans\n",
       "1000  bb6b5378fd78f6c4bdb3865dac087d830f58b4e7.jpg    0\n",
       "1001  909debcdd9b9e71fac2b8f05d9998b3cb1b5e739.jpg    0\n",
       "1002  34839f5b7709adf581415d744093319f75b58eac.jpg    0\n",
       "1003  acc39b7a040ea231558ac47d4bb6dd9d070f9cad.jpg    0\n",
       "1004  97b31774f3bde2aa5b06c0df2555ddd225e2e941.jpg    0\n",
       "1005  54fc63895dcc75670202ff3cd09496317cb22626.jpg    0\n",
       "1006  4944c8b48751f97f9115524c74ff6485f5e70d3e.jpg    0\n",
       "1007  eceb7ba27e4adb396dfe4671f7507092b9fbb887.jpg    0\n",
       "1008  338f8a38ca00f3ed1f6459f219e10964d71e2349.jpg    0\n",
       "1009  ad17347c3dea4a86402af22cd8571c83ce97c1a7.jpg    0"
      ],
      "text/html": "<div>\n<style scoped>\n    .dataframe tbody tr th:only-of-type {\n        vertical-align: middle;\n    }\n\n    .dataframe tbody tr th {\n        vertical-align: top;\n    }\n\n    .dataframe thead th {\n        text-align: right;\n    }\n</style>\n<table border=\"1\" class=\"dataframe\">\n  <thead>\n    <tr style=\"text-align: right;\">\n      <th></th>\n      <th>ImageID</th>\n      <th>ans</th>\n    </tr>\n  </thead>\n  <tbody>\n    <tr>\n      <th>1000</th>\n      <td>bb6b5378fd78f6c4bdb3865dac087d830f58b4e7.jpg</td>\n      <td>0</td>\n    </tr>\n    <tr>\n      <th>1001</th>\n      <td>909debcdd9b9e71fac2b8f05d9998b3cb1b5e739.jpg</td>\n      <td>0</td>\n    </tr>\n    <tr>\n      <th>1002</th>\n      <td>34839f5b7709adf581415d744093319f75b58eac.jpg</td>\n      <td>0</td>\n    </tr>\n    <tr>\n      <th>1003</th>\n      <td>acc39b7a040ea231558ac47d4bb6dd9d070f9cad.jpg</td>\n      <td>0</td>\n    </tr>\n    <tr>\n      <th>1004</th>\n      <td>97b31774f3bde2aa5b06c0df2555ddd225e2e941.jpg</td>\n      <td>0</td>\n    </tr>\n    <tr>\n      <th>1005</th>\n      <td>54fc63895dcc75670202ff3cd09496317cb22626.jpg</td>\n      <td>0</td>\n    </tr>\n    <tr>\n      <th>1006</th>\n      <td>4944c8b48751f97f9115524c74ff6485f5e70d3e.jpg</td>\n      <td>0</td>\n    </tr>\n    <tr>\n      <th>1007</th>\n      <td>eceb7ba27e4adb396dfe4671f7507092b9fbb887.jpg</td>\n      <td>0</td>\n    </tr>\n    <tr>\n      <th>1008</th>\n      <td>338f8a38ca00f3ed1f6459f219e10964d71e2349.jpg</td>\n      <td>0</td>\n    </tr>\n    <tr>\n      <th>1009</th>\n      <td>ad17347c3dea4a86402af22cd8571c83ce97c1a7.jpg</td>\n      <td>0</td>\n    </tr>\n  </tbody>\n</table>\n</div>"
     },
     "metadata": {},
     "execution_count": 28
    }
   ],
   "source": [
    "i = 1000\n",
    "info.iloc[i: i+10, :]"
   ]
  },
  {
   "cell_type": "code",
   "execution_count": 30,
   "metadata": {},
   "outputs": [
    {
     "output_type": "execute_result",
     "data": {
      "text/plain": [
       "(12600, 2)"
      ]
     },
     "metadata": {},
     "execution_count": 30
    }
   ],
   "source": [
    "info.shape"
   ]
  },
  {
   "cell_type": "code",
   "execution_count": 12,
   "metadata": {},
   "outputs": [],
   "source": [
    "imageid = info['ImageID'].tolist()"
   ]
  },
  {
   "cell_type": "code",
   "execution_count": 18,
   "metadata": {},
   "outputs": [
    {
     "output_type": "execute_result",
     "data": {
      "text/plain": [
       "['cbc5c6e168e63498590db46022617123f1fe1268.jpg',\n",
       " '0e72482bf56b3581c081f7da2a6180b8792c7089.jpg',\n",
       " 'b549040c49190cedc41327748aeb197c1670f14d.jpg',\n",
       " '4f9cb2a045c6d5b9e50ad3459ea7b791eb6e18bc.jpg',\n",
       " '248428d9a4a5b6229a7081c32851b90cb8d38d0c.jpg']"
      ]
     },
     "metadata": {},
     "execution_count": 18
    }
   ],
   "source": [
    "imageid[:5]"
   ]
  },
  {
   "cell_type": "code",
   "execution_count": 15,
   "metadata": {},
   "outputs": [],
   "source": [
    "labels = info['ans'].tolist()"
   ]
  },
  {
   "cell_type": "code",
   "execution_count": 19,
   "metadata": {},
   "outputs": [
    {
     "output_type": "execute_result",
     "data": {
      "text/plain": [
       "[0, 0, 0, 0, 0]"
      ]
     },
     "metadata": {},
     "execution_count": 19
    }
   ],
   "source": [
    "labels[:5]"
   ]
  },
  {
   "cell_type": "code",
   "execution_count": null,
   "metadata": {},
   "outputs": [],
   "source": [
    "pd.read_csv('../input/data/eval/images/')"
   ]
  },
  {
   "cell_type": "code",
   "execution_count": 11,
   "metadata": {},
   "outputs": [],
   "source": [
    "loader = DataLoader(train, batch_size=16, shuffle=True, drop_last=True)"
   ]
  }
 ]
}