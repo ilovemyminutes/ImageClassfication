{
 "metadata": {
  "language_info": {
   "codemirror_mode": {
    "name": "ipython",
    "version": 3
   },
   "file_extension": ".py",
   "mimetype": "text/x-python",
   "name": "python",
   "nbconvert_exporter": "python",
   "pygments_lexer": "ipython3",
   "version": "3.7.7-final"
  },
  "orig_nbformat": 2,
  "kernelspec": {
   "name": "python3",
   "display_name": "Python 3.7.7 64-bit ('conda': virtualenv)",
   "metadata": {
    "interpreter": {
     "hash": "98b0a9b7b4eaaa670588a142fd0a9b87eaafe866f1db4228be72b4211d12040f"
    }
   }
  }
 },
 "nbformat": 4,
 "nbformat_minor": 2,
 "cells": [
  {
   "cell_type": "code",
   "execution_count": 48,
   "metadata": {},
   "outputs": [],
   "source": [
    "import os\n",
    "import sys\n",
    "from glob import glob\n",
    "from tqdm import tqdm\n",
    "import numpy as np\n",
    "import shutil\n",
    "sys.path.insert(0, '../')\n",
    "from config import LabelEncoder\n",
    "from utils import save_pickle, load_json"
   ]
  },
  {
   "cell_type": "code",
   "execution_count": 40,
   "metadata": {},
   "outputs": [
    {
     "output_type": "execute_result",
     "data": {
      "text/plain": [
       "2700"
      ]
     },
     "metadata": {},
     "execution_count": 40
    }
   ],
   "source": [
    "train_dirs = glob('../input/data/train/images/*')\n",
    "len(train_dirs)"
   ]
  },
  {
   "cell_type": "code",
   "execution_count": 41,
   "metadata": {},
   "outputs": [],
   "source": [
    "SEED = 42\n",
    "TEST_RATE = 0.1\n",
    "VALID_RATE = 0.15"
   ]
  },
  {
   "cell_type": "code",
   "execution_count": 44,
   "metadata": {},
   "outputs": [
    {
     "output_type": "execute_result",
     "data": {
      "text/plain": [
       "(2295, 405, 270)"
      ]
     },
     "metadata": {},
     "execution_count": 44
    }
   ],
   "source": [
    "np.random.seed(SEED)\n",
    "valid_size = int(len(train_dirs) * VALID_RATE)\n",
    "test_size = int(len(train_dirs) * TEST_RATE)\n",
    "\n",
    "valid_dirs = np.random.choice(train_dirs, valid_size, replace=False).tolist()\n",
    "train_dirs = [d for d in train_dirs if d not in valid_dirs]\n",
    "test_dirs = np.random.choice(train_dirs, test_size, replace=False).tolist()\n",
    "\n",
    "len(train_dirs), len(valid_dirs), len(test_dirs)"
   ]
  },
  {
   "cell_type": "code",
   "execution_count": 45,
   "metadata": {},
   "outputs": [],
   "source": [
    "TRAIN_PATH = '../preprocessed_fixed/train'\n",
    "VALID_PATH = '../preprocessed_fixed/valid'\n",
    "TEST_PATH = '../preprocessed_fixed/test'"
   ]
  },
  {
   "cell_type": "code",
   "execution_count": 51,
   "metadata": {},
   "outputs": [],
   "source": [
    "metadata = load_json('../preprocessed/train_metadata.json')"
   ]
  },
  {
   "cell_type": "code",
   "execution_count": 60,
   "metadata": {},
   "outputs": [],
   "source": [
    "# configure train\n",
    "\n",
    "for dir_ in train_dirs:\n",
    "    for img_path in glob(os.path.join(dir_, '*')):\n",
    "        img_name = dir_.split('/')[-1] + '_' + os.path.basename(img_path)\n",
    "        copy_to = os.path.join(TRAIN_PATH, img_name)\n",
    "        shutil.copy(img_path, copy_to)"
   ]
  },
  {
   "cell_type": "code",
   "execution_count": 61,
   "metadata": {},
   "outputs": [],
   "source": [
    "# configure train\n",
    "\n",
    "for dir_ in valid_dirs:\n",
    "    for img_path in glob(os.path.join(dir_, '*')):\n",
    "        img_name = dir_.split('/')[-1] + '_' + os.path.basename(img_path)\n",
    "        copy_to = os.path.join(VALID_PATH, img_name)\n",
    "        shutil.copy(img_path, copy_to)"
   ]
  },
  {
   "cell_type": "code",
   "execution_count": 62,
   "metadata": {},
   "outputs": [],
   "source": [
    "# configure train\n",
    "\n",
    "for dir_ in test_dirs:\n",
    "    for img_path in glob(os.path.join(dir_, '*')):\n",
    "        img_name = dir_.split('/')[-1] + '_' + os.path.basename(img_path)\n",
    "        copy_to = os.path.join(TEST_PATH, img_name)\n",
    "        shutil.copy(img_path, copy_to)"
   ]
  },
  {
   "cell_type": "code",
   "execution_count": 76,
   "metadata": {},
   "outputs": [
    {
     "output_type": "stream",
     "name": "stdout",
     "text": [
      "1890\n16065\n2835\n"
     ]
    }
   ],
   "source": [
    "print(len(glob('../preprocessed_fixed/test/*')))\n",
    "print(len(glob('../preprocessed_fixed/train/*')))\n",
    "print(len(glob('../preprocessed_fixed/valid/*')))"
   ]
  }
 ]
}