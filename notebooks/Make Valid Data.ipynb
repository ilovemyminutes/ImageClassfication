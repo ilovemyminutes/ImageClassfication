{
 "metadata": {
  "language_info": {
   "codemirror_mode": {
    "name": "ipython",
    "version": 3
   },
   "file_extension": ".py",
   "mimetype": "text/x-python",
   "name": "python",
   "nbconvert_exporter": "python",
   "pygments_lexer": "ipython3",
   "version": "3.7.7-final"
  },
  "orig_nbformat": 2,
  "kernelspec": {
   "name": "python3",
   "display_name": "Python 3.7.7 64-bit ('base': conda)",
   "metadata": {
    "interpreter": {
     "hash": "98b0a9b7b4eaaa670588a142fd0a9b87eaafe866f1db4228be72b4211d12040f"
    }
   }
  }
 },
 "nbformat": 4,
 "nbformat_minor": 2,
 "cells": [
  {
   "cell_type": "code",
   "execution_count": 24,
   "metadata": {},
   "outputs": [],
   "source": [
    "import os\n",
    "from glob import glob\n",
    "from tqdm import tqdm\n",
    "import shutil\n",
    "import numpy as np"
   ]
  },
  {
   "source": [
    "Train : Valid = 4 : 1"
   ],
   "cell_type": "markdown",
   "metadata": {}
  },
  {
   "cell_type": "code",
   "execution_count": 20,
   "metadata": {},
   "outputs": [
    {
     "output_type": "stream",
     "name": "stdout",
     "text": [
      "Original Train Size: 2050 Valid Size: 410\nOriginal Train Size: 732 Valid Size: 146\nOriginal Train Size: 4085 Valid Size: 817\nOriginal Train Size: 410 Valid Size: 82\nOriginal Train Size: 415 Valid Size: 83\nOriginal Train Size: 109 Valid Size: 21\nOriginal Train Size: 83 Valid Size: 16\nOriginal Train Size: 549 Valid Size: 109\nOriginal Train Size: 83 Valid Size: 16\nOriginal Train Size: 545 Valid Size: 109\nOriginal Train Size: 109 Valid Size: 21\nOriginal Train Size: 410 Valid Size: 82\nOriginal Train Size: 817 Valid Size: 163\nOriginal Train Size: 2745 Valid Size: 549\nOriginal Train Size: 549 Valid Size: 109\nOriginal Train Size: 3660 Valid Size: 732\nOriginal Train Size: 817 Valid Size: 163\nOriginal Train Size: 732 Valid Size: 146\n"
     ]
    },
    {
     "output_type": "execute_result",
     "data": {
      "text/plain": [
       "({'1': 410,\n",
       "  '15': 146,\n",
       "  '4': 817,\n",
       "  '13': 82,\n",
       "  '2': 83,\n",
       "  '11': 21,\n",
       "  '14': 16,\n",
       "  '6': 109,\n",
       "  '8': 16,\n",
       "  '5': 109,\n",
       "  '17': 21,\n",
       "  '7': 82,\n",
       "  '10': 163,\n",
       "  '0': 549,\n",
       "  '12': 109,\n",
       "  '3': 732,\n",
       "  '16': 163,\n",
       "  '9': 146},\n",
       " 3774)"
      ]
     },
     "metadata": {},
     "execution_count": 20
    }
   ],
   "source": [
    "ORIGIN = '../preprocessed/train' # 이미지를 이동/복사할 디렉토리\n",
    "TOMOVE = '../preprocessed/valid'\n",
    "\n",
    "total_valid = 0\n",
    "class_subsample_size = {}\n",
    "\n",
    "for dir_ in glob(os.path.join(ORIGIN, '*')):\n",
    "    num_files = len(os.listdir(dir_))\n",
    "    class_ = os.path.basename(dir_)\n",
    "    subsample_size = int(num_files / 5)\n",
    "    print('Original Train Size:', num_files, 'Valid Size:',subsample_size)\n",
    "    class_subsample_size[class_] = subsample_size\n",
    "    total_valid += subsample_size\n",
    "\n",
    "class_subsample_size, total_valid\n"
   ]
  },
  {
   "cell_type": "code",
   "execution_count": 17,
   "metadata": {},
   "outputs": [],
   "source": [
    "try:\n",
    "    os.listdir(TOMOVE)\n",
    "except:\n",
    "    os.mkdir(TOMOVE)\n",
    "\n",
    "# 18 개 클래스 생성\n",
    "for i in range(18):\n",
    "    if str(i) not in os.listdir(TOMOVE):\n",
    "        os.mkdir(os.path.join(TOMOVE, str(i)))"
   ]
  },
  {
   "cell_type": "code",
   "execution_count": 21,
   "metadata": {},
   "outputs": [
    {
     "output_type": "execute_result",
     "data": {
      "text/plain": [
       "['../preprocessed/train/1',\n",
       " '../preprocessed/train/15',\n",
       " '../preprocessed/train/4',\n",
       " '../preprocessed/train/13',\n",
       " '../preprocessed/train/2',\n",
       " '../preprocessed/train/11',\n",
       " '../preprocessed/train/14',\n",
       " '../preprocessed/train/6',\n",
       " '../preprocessed/train/8',\n",
       " '../preprocessed/train/5',\n",
       " '../preprocessed/train/17',\n",
       " '../preprocessed/train/7',\n",
       " '../preprocessed/train/10',\n",
       " '../preprocessed/train/0',\n",
       " '../preprocessed/train/12',\n",
       " '../preprocessed/train/3',\n",
       " '../preprocessed/train/16',\n",
       " '../preprocessed/train/9']"
      ]
     },
     "metadata": {},
     "execution_count": 21
    }
   ],
   "source": [
    "img_paths"
   ]
  },
  {
   "cell_type": "code",
   "execution_count": 35,
   "metadata": {},
   "outputs": [
    {
     "output_type": "execute_result",
     "data": {
      "text/plain": [
       "'../preprocessed/train/9/006341_female_Asian_18_incorrect_mask.jpg'"
      ]
     },
     "metadata": {},
     "execution_count": 35
    }
   ],
   "source": [
    "img"
   ]
  },
  {
   "cell_type": "code",
   "execution_count": 40,
   "metadata": {
    "tags": []
   },
   "outputs": [
    {
     "output_type": "stream",
     "name": "stderr",
     "text": [
      "100%|██████████| 18/18 [00:00<00:00, 112.33it/s]\n"
     ]
    }
   ],
   "source": [
    "SEED = 42\n",
    "ORIGIN = '../preprocessed/train' # 이미지를 이동/복사할 디렉토리\n",
    "TOMOVE = '../preprocessed/valid'\n",
    "\n",
    "np.random.seed(SEED)\n",
    "for dir_ in tqdm(glob(os.path.join(ORIGIN, '*'))):\n",
    "    img_paths = glob(os.path.join(dir_, '*'))\n",
    "    class_ = os.path.basename(dir_)\n",
    "    \n",
    "    num_files = len(img_paths)\n",
    "    subsample_size = int(num_files / 5)\n",
    "    subsample = np.random.choice(img_paths, subsample_size, replace=False)\n",
    "\n",
    "    for img in subsample:\n",
    "        filename = os.path.basename(img)\n",
    "        save_path = os.path.join(TOMOVE, class_, filename)\n",
    "        shutil.move(img, save_path)\n"
   ]
  },
  {
   "cell_type": "code",
   "execution_count": 47,
   "metadata": {},
   "outputs": [
    {
     "output_type": "stream",
     "name": "stdout",
     "text": [
      "410\n146\n817\n82\n83\n21\n16\n109\n16\n109\n21\n82\n163\n549\n109\n732\n163\n146\n"
     ]
    }
   ],
   "source": [
    "for dir_ in glob(os.path.join(TOMOVE, '*')):\n",
    "    print(len(glob(os.path.join(dir_, '*'))))"
   ]
  }
 ]
}