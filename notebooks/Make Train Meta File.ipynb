{
 "metadata": {
  "language_info": {
   "codemirror_mode": {
    "name": "ipython",
    "version": 3
   },
   "file_extension": ".py",
   "mimetype": "text/x-python",
   "name": "python",
   "nbconvert_exporter": "python",
   "pygments_lexer": "ipython3",
   "version": "3.7.7-final"
  },
  "orig_nbformat": 2,
  "kernelspec": {
   "name": "python3",
   "display_name": "Python 3.7.7 64-bit ('base': conda)",
   "metadata": {
    "interpreter": {
     "hash": "98b0a9b7b4eaaa670588a142fd0a9b87eaafe866f1db4228be72b4211d12040f"
    }
   }
  }
 },
 "nbformat": 4,
 "nbformat_minor": 2,
 "cells": [
  {
   "cell_type": "code",
   "execution_count": 2,
   "metadata": {},
   "outputs": [],
   "source": [
    "import os\n",
    "from glob import glob\n",
    "import sys\n",
    "from PIL import Image\n",
    "import matplotlib.pyplot as plt\n",
    "import numpy as np\n",
    "import pandas as pd\n",
    "import torch\n",
    "import torch.nn as nn\n",
    "\n",
    "sys.path.insert(0, '../')\n",
    "from dataset import get_dataloader"
   ]
  },
  {
   "cell_type": "code",
   "execution_count": 3,
   "metadata": {},
   "outputs": [
    {
     "output_type": "execute_result",
     "data": {
      "text/plain": [
       "{'mask': {'incorrect': 0, 'wear': 1, 'not_wear': 2},\n",
       " 'gender': {'male': 0, 'female': 1}}"
      ]
     },
     "metadata": {},
     "execution_count": 3
    }
   ],
   "source": [
    "TaskMetaInfo.Encoder"
   ]
  },
  {
   "cell_type": "code",
   "execution_count": 8,
   "metadata": {},
   "outputs": [],
   "source": [
    "RANDOM_SEED = 42\n",
    "TRAIN_RAW = '../input/data/train/images'"
   ]
  },
  {
   "cell_type": "code",
   "execution_count": 9,
   "metadata": {},
   "outputs": [
    {
     "output_type": "execute_result",
     "data": {
      "text/plain": [
       "       id  gender   race  age                    path\n",
       "0  000001  female  Asian   45  000001_female_Asian_45\n",
       "1  000002  female  Asian   52  000002_female_Asian_52\n",
       "2  000004    male  Asian   54    000004_male_Asian_54"
      ],
      "text/html": "<div>\n<style scoped>\n    .dataframe tbody tr th:only-of-type {\n        vertical-align: middle;\n    }\n\n    .dataframe tbody tr th {\n        vertical-align: top;\n    }\n\n    .dataframe thead th {\n        text-align: right;\n    }\n</style>\n<table border=\"1\" class=\"dataframe\">\n  <thead>\n    <tr style=\"text-align: right;\">\n      <th></th>\n      <th>id</th>\n      <th>gender</th>\n      <th>race</th>\n      <th>age</th>\n      <th>path</th>\n    </tr>\n  </thead>\n  <tbody>\n    <tr>\n      <th>0</th>\n      <td>000001</td>\n      <td>female</td>\n      <td>Asian</td>\n      <td>45</td>\n      <td>000001_female_Asian_45</td>\n    </tr>\n    <tr>\n      <th>1</th>\n      <td>000002</td>\n      <td>female</td>\n      <td>Asian</td>\n      <td>52</td>\n      <td>000002_female_Asian_52</td>\n    </tr>\n    <tr>\n      <th>2</th>\n      <td>000004</td>\n      <td>male</td>\n      <td>Asian</td>\n      <td>54</td>\n      <td>000004_male_Asian_54</td>\n    </tr>\n  </tbody>\n</table>\n</div>"
     },
     "metadata": {},
     "execution_count": 9
    }
   ],
   "source": [
    "data = pd.read_csv('../input/data/train/train.csv')\n",
    "data.head(3)"
   ]
  },
  {
   "cell_type": "code",
   "execution_count": 10,
   "metadata": {},
   "outputs": [],
   "source": [
    "mask_states = ['incorrect_mask', 'mask1', 'mask2', 'mask3', 'mask4', 'mask5', 'normal']\n",
    "\n",
    "def attach_img_path(x):    \n",
    "    output = [os.path.join(x, class_) for class_ in mask_states]\n",
    "    return output\n",
    "\n",
    "def get_image_paths(x):\n",
    "    name = os.path.basename(x)\n",
    "    output = pd.DataFrame(np.array(attach_img_path(x)), columns=['image_path'])\n",
    "    output['mask_detail'] = [m for m in mask_states]\n",
    "    output['path'] = name\n",
    "    return output"
   ]
  },
  {
   "cell_type": "code",
   "execution_count": 11,
   "metadata": {},
   "outputs": [
    {
     "output_type": "stream",
     "name": "stdout",
     "text": [
      "CPU times: user 3.15 s, sys: 12 ms, total: 3.16 s\nWall time: 3.16 s\n"
     ]
    },
    {
     "output_type": "execute_result",
     "data": {
      "text/plain": [
       "       id  gender   race  age                    path  \\\n",
       "0  000001  female  Asian   45  000001_female_Asian_45   \n",
       "1  000001  female  Asian   45  000001_female_Asian_45   \n",
       "2  000001  female  Asian   45  000001_female_Asian_45   \n",
       "\n",
       "                                          image_path     mask_detail  \n",
       "0  ../input/data/train/images/000001_female_Asian...  incorrect_mask  \n",
       "1  ../input/data/train/images/000001_female_Asian...           mask1  \n",
       "2  ../input/data/train/images/000001_female_Asian...           mask2  "
      ],
      "text/html": "<div>\n<style scoped>\n    .dataframe tbody tr th:only-of-type {\n        vertical-align: middle;\n    }\n\n    .dataframe tbody tr th {\n        vertical-align: top;\n    }\n\n    .dataframe thead th {\n        text-align: right;\n    }\n</style>\n<table border=\"1\" class=\"dataframe\">\n  <thead>\n    <tr style=\"text-align: right;\">\n      <th></th>\n      <th>id</th>\n      <th>gender</th>\n      <th>race</th>\n      <th>age</th>\n      <th>path</th>\n      <th>image_path</th>\n      <th>mask_detail</th>\n    </tr>\n  </thead>\n  <tbody>\n    <tr>\n      <th>0</th>\n      <td>000001</td>\n      <td>female</td>\n      <td>Asian</td>\n      <td>45</td>\n      <td>000001_female_Asian_45</td>\n      <td>../input/data/train/images/000001_female_Asian...</td>\n      <td>incorrect_mask</td>\n    </tr>\n    <tr>\n      <th>1</th>\n      <td>000001</td>\n      <td>female</td>\n      <td>Asian</td>\n      <td>45</td>\n      <td>000001_female_Asian_45</td>\n      <td>../input/data/train/images/000001_female_Asian...</td>\n      <td>mask1</td>\n    </tr>\n    <tr>\n      <th>2</th>\n      <td>000001</td>\n      <td>female</td>\n      <td>Asian</td>\n      <td>45</td>\n      <td>000001_female_Asian_45</td>\n      <td>../input/data/train/images/000001_female_Asian...</td>\n      <td>mask2</td>\n    </tr>\n  </tbody>\n</table>\n</div>"
     },
     "metadata": {},
     "execution_count": 11
    }
   ],
   "source": [
    "%%time\n",
    "path_list = data['path'].tolist()\n",
    "image_paths_raw = list(map(lambda x: get_image_paths(os.path.join(TRAIN_RAW, x)), path_list))\n",
    "image_paths = pd.concat(image_paths_raw, ignore_index=True, axis=0)\n",
    "\n",
    "data = data.merge(image_paths, how='left', on='path')\n",
    "data.head(3)\n"
   ]
  },
  {
   "cell_type": "code",
   "execution_count": 18,
   "metadata": {},
   "outputs": [
    {
     "output_type": "execute_result",
     "data": {
      "text/plain": [
       "       id  gender  age       mask     mask_detail                    path  \\\n",
       "0  000001  female   45  incorrect  incorrect_mask  000001_female_Asian_45   \n",
       "1  000001  female   45       wear           mask1  000001_female_Asian_45   \n",
       "2  000001  female   45       wear           mask2  000001_female_Asian_45   \n",
       "\n",
       "                                          image_path  \n",
       "0  ../input/data/train/images/000001_female_Asian...  \n",
       "1  ../input/data/train/images/000001_female_Asian...  \n",
       "2  ../input/data/train/images/000001_female_Asian...  "
      ],
      "text/html": "<div>\n<style scoped>\n    .dataframe tbody tr th:only-of-type {\n        vertical-align: middle;\n    }\n\n    .dataframe tbody tr th {\n        vertical-align: top;\n    }\n\n    .dataframe thead th {\n        text-align: right;\n    }\n</style>\n<table border=\"1\" class=\"dataframe\">\n  <thead>\n    <tr style=\"text-align: right;\">\n      <th></th>\n      <th>id</th>\n      <th>gender</th>\n      <th>age</th>\n      <th>mask</th>\n      <th>mask_detail</th>\n      <th>path</th>\n      <th>image_path</th>\n    </tr>\n  </thead>\n  <tbody>\n    <tr>\n      <th>0</th>\n      <td>000001</td>\n      <td>female</td>\n      <td>45</td>\n      <td>incorrect</td>\n      <td>incorrect_mask</td>\n      <td>000001_female_Asian_45</td>\n      <td>../input/data/train/images/000001_female_Asian...</td>\n    </tr>\n    <tr>\n      <th>1</th>\n      <td>000001</td>\n      <td>female</td>\n      <td>45</td>\n      <td>wear</td>\n      <td>mask1</td>\n      <td>000001_female_Asian_45</td>\n      <td>../input/data/train/images/000001_female_Asian...</td>\n    </tr>\n    <tr>\n      <th>2</th>\n      <td>000001</td>\n      <td>female</td>\n      <td>45</td>\n      <td>wear</td>\n      <td>mask2</td>\n      <td>000001_female_Asian_45</td>\n      <td>../input/data/train/images/000001_female_Asian...</td>\n    </tr>\n  </tbody>\n</table>\n</div>"
     },
     "metadata": {},
     "execution_count": 18
    }
   ],
   "source": [
    "def get_mask_class(x):\n",
    "    if x == 'incorrect_mask':\n",
    "        class_ = 'incorrect'\n",
    "    elif x == 'normal':\n",
    "        class_ = 'not_wear'\n",
    "    else:\n",
    "        class_ = 'wear'\n",
    "    return class_\n",
    "\n",
    "\n",
    "data['mask'] = data['mask_detail'].apply(lambda x: get_mask_class(x))\n",
    "col_order = ['id', 'gender', 'age', 'mask', 'mask_detail', 'path', 'image_path']\n",
    "data = data[col_order]\n",
    "data.head(3)"
   ]
  },
  {
   "cell_type": "code",
   "execution_count": 20,
   "metadata": {},
   "outputs": [],
   "source": [
    "def tag_extension(img_path):\n",
    "    for ex in ['.jpg', '.png', '.jpeg']:\n",
    "        path = img_path + ex\n",
    "        if os.path.isfile(path):\n",
    "            break\n",
    "    return path\n",
    "data['image_path'] = data['image_path'].apply(lambda x: tag_extension(x))"
   ]
  },
  {
   "cell_type": "code",
   "execution_count": 31,
   "metadata": {},
   "outputs": [],
   "source": [
    "img_abspath_list = data['image_path'].tolist()"
   ]
  },
  {
   "cell_type": "code",
   "execution_count": 36,
   "metadata": {},
   "outputs": [],
   "source": [
    "encoder = TaskMetaInfo.Encoder"
   ]
  },
  {
   "cell_type": "code",
   "execution_count": 37,
   "metadata": {},
   "outputs": [
    {
     "output_type": "execute_result",
     "data": {
      "text/plain": [
       "{'mask': {'incorrect': 0, 'wear': 1, 'not_wear': 2},\n",
       " 'gender': {'male': 0, 'female': 1}}"
      ]
     },
     "metadata": {},
     "execution_count": 37
    }
   ],
   "source": [
    "encoder"
   ]
  },
  {
   "cell_type": "code",
   "execution_count": 34,
   "metadata": {},
   "outputs": [],
   "source": [
    "label_meta = {}"
   ]
  },
  {
   "cell_type": "code",
   "execution_count": 38,
   "metadata": {},
   "outputs": [
    {
     "output_type": "execute_result",
     "data": {
      "text/plain": [
       "'../input/data/train/images/000001_female_Asian_45/incorrect_mask.jpg'"
      ]
     },
     "metadata": {},
     "execution_count": 38
    }
   ],
   "source": [
    "meta = {}\n",
    "sample = img_abspath_list[0]\n",
    "\n",
    "# mask\n",
    "def get_mask_cat(img_path):\n",
    "    if 'incorrect' in img_path:\n",
    "        return 'incorrect'\n",
    "    elif 'normal' in img_path:\n",
    "        return 'not_wear'\n",
    "    else:\n",
    "        return 'wear'\n",
    "\n",
    "def get_mask_cat(img_path):\n",
    "    if 'incorrect' in img_path:\n",
    "        return 'incorrect'\n",
    "    elif 'normal' in img_path:\n",
    "        return 'not_wear'\n",
    "    else:\n",
    "        return 'wear'"
   ]
  },
  {
   "cell_type": "code",
   "execution_count": 17,
   "metadata": {},
   "outputs": [],
   "source": [
    "TRAIN = '../preprocessed/train'\n",
    "loader = get_dataloader('train', TRAIN, 'base', 32)"
   ]
  },
  {
   "cell_type": "code",
   "execution_count": 21,
   "metadata": {},
   "outputs": [],
   "source": [
    "for imgs in loader:\n",
    "    break"
   ]
  },
  {
   "cell_type": "code",
   "execution_count": 27,
   "metadata": {},
   "outputs": [],
   "source": [
    "imgs, labels = cutmix(imgs, .5)"
   ]
  },
  {
   "cell_type": "code",
   "execution_count": 32,
   "metadata": {},
   "outputs": [
    {
     "output_type": "execute_result",
     "data": {
      "text/plain": [
       "0.07352423161483547"
      ]
     },
     "metadata": {},
     "execution_count": 32
    }
   ],
   "source": [
    "labels[2]"
   ]
  }
 ]
}